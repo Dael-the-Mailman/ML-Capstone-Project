{
 "cells": [
  {
   "cell_type": "code",
   "execution_count": 1,
   "id": "1a4aaaa0",
   "metadata": {},
   "outputs": [],
   "source": [
    "import pandas as pd\n",
    "import numpy as np\n",
    "import os\n",
    "from dotenv import dotenv_values"
   ]
  },
  {
   "cell_type": "code",
   "execution_count": 2,
   "id": "ea6a9c12",
   "metadata": {},
   "outputs": [],
   "source": [
    "config = dotenv_values('.env')"
   ]
  },
  {
   "cell_type": "code",
   "execution_count": 3,
   "id": "de044864",
   "metadata": {},
   "outputs": [
    {
     "data": {
      "text/plain": [
       "19"
      ]
     },
     "execution_count": 3,
     "metadata": {},
     "output_type": "execute_result"
    }
   ],
   "source": [
    "popular_submissions = os.listdir(config[\"DESPACITO\"])\n",
    "size = len(popular_submissions)\n",
    "size"
   ]
  },
  {
   "cell_type": "markdown",
   "id": "07f170bb",
   "metadata": {},
   "source": [
    "# Experimenting with Algorithm"
   ]
  },
  {
   "cell_type": "code",
   "execution_count": 4,
   "id": "68d635b8",
   "metadata": {
    "scrolled": false
   },
   "outputs": [
    {
     "data": {
      "text/html": [
       "<div>\n",
       "<style scoped>\n",
       "    .dataframe tbody tr th:only-of-type {\n",
       "        vertical-align: middle;\n",
       "    }\n",
       "\n",
       "    .dataframe tbody tr th {\n",
       "        vertical-align: top;\n",
       "    }\n",
       "\n",
       "    .dataframe thead th {\n",
       "        text-align: right;\n",
       "    }\n",
       "</style>\n",
       "<table border=\"1\" class=\"dataframe\">\n",
       "  <thead>\n",
       "    <tr style=\"text-align: right;\">\n",
       "      <th></th>\n",
       "      <th>customer_ID</th>\n",
       "    </tr>\n",
       "  </thead>\n",
       "  <tbody>\n",
       "    <tr>\n",
       "      <th>0</th>\n",
       "      <td>00000469ba478561f23a92a868bd366de6f6527a684c9a...</td>\n",
       "    </tr>\n",
       "    <tr>\n",
       "      <th>1</th>\n",
       "      <td>00001bf2e77ff879fab36aa4fac689b9ba411dae63ae39...</td>\n",
       "    </tr>\n",
       "    <tr>\n",
       "      <th>2</th>\n",
       "      <td>0000210045da4f81e5f122c6bde5c2a617d03eef67f82c...</td>\n",
       "    </tr>\n",
       "    <tr>\n",
       "      <th>3</th>\n",
       "      <td>00003b41e58ede33b8daf61ab56d9952f17c9ad1c3976c...</td>\n",
       "    </tr>\n",
       "    <tr>\n",
       "      <th>4</th>\n",
       "      <td>00004b22eaeeeb0ec976890c1d9bfc14fd9427e98c4ee9...</td>\n",
       "    </tr>\n",
       "  </tbody>\n",
       "</table>\n",
       "</div>"
      ],
      "text/plain": [
       "                                         customer_ID\n",
       "0  00000469ba478561f23a92a868bd366de6f6527a684c9a...\n",
       "1  00001bf2e77ff879fab36aa4fac689b9ba411dae63ae39...\n",
       "2  0000210045da4f81e5f122c6bde5c2a617d03eef67f82c...\n",
       "3  00003b41e58ede33b8daf61ab56d9952f17c9ad1c3976c...\n",
       "4  00004b22eaeeeb0ec976890c1d9bfc14fd9427e98c4ee9..."
      ]
     },
     "execution_count": 4,
     "metadata": {},
     "output_type": "execute_result"
    }
   ],
   "source": [
    "consensus_df = pd.read_csv(config[\"SAMPLE_PATH\"])\n",
    "consensus_df = consensus_df.drop(\"prediction\",axis=1)\n",
    "consensus_df.head()"
   ]
  },
  {
   "cell_type": "code",
   "execution_count": 5,
   "id": "1874cfb7",
   "metadata": {},
   "outputs": [
    {
     "data": {
      "text/plain": [
       "924621"
      ]
     },
     "execution_count": 5,
     "metadata": {},
     "output_type": "execute_result"
    }
   ],
   "source": [
    "len(consensus_df)"
   ]
  },
  {
   "cell_type": "code",
   "execution_count": null,
   "id": "3e248369",
   "metadata": {},
   "outputs": [],
   "source": [
    "sub = pd.read_csv(config[\"DESPACITO\"] + popular_submissions[0])\n",
    "sub.head()"
   ]
  },
  {
   "cell_type": "code",
   "execution_count": null,
   "id": "acf2a3a5",
   "metadata": {},
   "outputs": [],
   "source": [
    "sub['default'] = sub['prediction'] > 0.5\n",
    "sub['no_default'] = sub['prediction'] <= 0.5\n",
    "sub.head()"
   ]
  },
  {
   "cell_type": "code",
   "execution_count": null,
   "id": "11919706",
   "metadata": {
    "scrolled": false
   },
   "outputs": [],
   "source": [
    "consensus_df['default_count'] = 0\n",
    "consensus_df['no_default_count'] = 0\n",
    "consensus_df['default_count'] += sub['default']\n",
    "consensus_df['no_default_count'] += ~sub['default']\n",
    "consensus_df.head()"
   ]
  },
  {
   "cell_type": "code",
   "execution_count": null,
   "id": "9e47b6bf",
   "metadata": {},
   "outputs": [],
   "source": [
    "~sub['default']"
   ]
  },
  {
   "cell_type": "markdown",
   "id": "4cb78b91",
   "metadata": {},
   "source": [
    "# Actual Algorithm"
   ]
  },
  {
   "cell_type": "code",
   "execution_count": 6,
   "id": "de925196",
   "metadata": {},
   "outputs": [
    {
     "data": {
      "text/plain": [
       "0          2\n",
       "1          0\n",
       "2          2\n",
       "3          4\n",
       "4         18\n",
       "          ..\n",
       "924616     0\n",
       "924617    18\n",
       "924618     6\n",
       "924619     5\n",
       "924620     4\n",
       "Name: default_count, Length: 924621, dtype: int64"
      ]
     },
     "execution_count": 6,
     "metadata": {},
     "output_type": "execute_result"
    }
   ],
   "source": [
    "consensus_df['default_count'] = 0\n",
    "for sub in popular_submissions:\n",
    "    df = pd.read_csv(config[\"DESPACITO\"] + sub)\n",
    "    df[\"default\"] = df[\"prediction\"] > 0.5\n",
    "    consensus_df['default_count'] += df['default']\n",
    "consensus_df['default_count']"
   ]
  },
  {
   "cell_type": "code",
   "execution_count": 7,
   "id": "59374e80",
   "metadata": {
    "scrolled": true
   },
   "outputs": [
    {
     "data": {
      "text/html": [
       "<div>\n",
       "<style scoped>\n",
       "    .dataframe tbody tr th:only-of-type {\n",
       "        vertical-align: middle;\n",
       "    }\n",
       "\n",
       "    .dataframe tbody tr th {\n",
       "        vertical-align: top;\n",
       "    }\n",
       "\n",
       "    .dataframe thead th {\n",
       "        text-align: right;\n",
       "    }\n",
       "</style>\n",
       "<table border=\"1\" class=\"dataframe\">\n",
       "  <thead>\n",
       "    <tr style=\"text-align: right;\">\n",
       "      <th></th>\n",
       "      <th>customer_ID</th>\n",
       "      <th>default_count</th>\n",
       "      <th>default_pct</th>\n",
       "    </tr>\n",
       "  </thead>\n",
       "  <tbody>\n",
       "    <tr>\n",
       "      <th>0</th>\n",
       "      <td>00000469ba478561f23a92a868bd366de6f6527a684c9a...</td>\n",
       "      <td>2</td>\n",
       "      <td>0.105263</td>\n",
       "    </tr>\n",
       "    <tr>\n",
       "      <th>1</th>\n",
       "      <td>00001bf2e77ff879fab36aa4fac689b9ba411dae63ae39...</td>\n",
       "      <td>0</td>\n",
       "      <td>0.000000</td>\n",
       "    </tr>\n",
       "    <tr>\n",
       "      <th>2</th>\n",
       "      <td>0000210045da4f81e5f122c6bde5c2a617d03eef67f82c...</td>\n",
       "      <td>2</td>\n",
       "      <td>0.105263</td>\n",
       "    </tr>\n",
       "    <tr>\n",
       "      <th>3</th>\n",
       "      <td>00003b41e58ede33b8daf61ab56d9952f17c9ad1c3976c...</td>\n",
       "      <td>4</td>\n",
       "      <td>0.210526</td>\n",
       "    </tr>\n",
       "    <tr>\n",
       "      <th>4</th>\n",
       "      <td>00004b22eaeeeb0ec976890c1d9bfc14fd9427e98c4ee9...</td>\n",
       "      <td>18</td>\n",
       "      <td>0.947368</td>\n",
       "    </tr>\n",
       "  </tbody>\n",
       "</table>\n",
       "</div>"
      ],
      "text/plain": [
       "                                         customer_ID  default_count  \\\n",
       "0  00000469ba478561f23a92a868bd366de6f6527a684c9a...              2   \n",
       "1  00001bf2e77ff879fab36aa4fac689b9ba411dae63ae39...              0   \n",
       "2  0000210045da4f81e5f122c6bde5c2a617d03eef67f82c...              2   \n",
       "3  00003b41e58ede33b8daf61ab56d9952f17c9ad1c3976c...              4   \n",
       "4  00004b22eaeeeb0ec976890c1d9bfc14fd9427e98c4ee9...             18   \n",
       "\n",
       "   default_pct  \n",
       "0     0.105263  \n",
       "1     0.000000  \n",
       "2     0.105263  \n",
       "3     0.210526  \n",
       "4     0.947368  "
      ]
     },
     "execution_count": 7,
     "metadata": {},
     "output_type": "execute_result"
    }
   ],
   "source": [
    "consensus_df['default_pct'] = consensus_df['default_count'] / size\n",
    "consensus_df.head()"
   ]
  },
  {
   "cell_type": "markdown",
   "id": "54dc9723",
   "metadata": {},
   "source": [
    "## Save Consensus DataFrame for further reference"
   ]
  },
  {
   "cell_type": "code",
   "execution_count": 8,
   "id": "a44b1828",
   "metadata": {},
   "outputs": [],
   "source": [
    "consensus_df.to_csv(config[\"ENGINEERED_DATA\"] + \"consensus.csv\", index=False)"
   ]
  },
  {
   "cell_type": "markdown",
   "id": "1547595a",
   "metadata": {},
   "source": [
    "# Turn Consensus Into Training Labels"
   ]
  },
  {
   "cell_type": "code",
   "execution_count": 9,
   "id": "3c8ec85f",
   "metadata": {
    "scrolled": false
   },
   "outputs": [],
   "source": [
    "THRESHOLD = 0.9\n",
    "default_consensus = np.where(consensus_df[\"default_pct\"] > THRESHOLD, 1, 0)\n",
    "no_default_consensus = np.where(consensus_df[\"default_pct\"] < (1-THRESHOLD), 0, 1)"
   ]
  },
  {
   "cell_type": "code",
   "execution_count": 10,
   "id": "ec532d0b",
   "metadata": {},
   "outputs": [
    {
     "data": {
      "text/plain": [
       "array([0, 0, 0, ..., 0, 0, 0])"
      ]
     },
     "execution_count": 10,
     "metadata": {},
     "output_type": "execute_result"
    }
   ],
   "source": [
    "default_consensus"
   ]
  },
  {
   "cell_type": "code",
   "execution_count": 11,
   "id": "7bbd7a19",
   "metadata": {},
   "outputs": [
    {
     "data": {
      "text/plain": [
       "array([1, 0, 1, ..., 1, 1, 1])"
      ]
     },
     "execution_count": 11,
     "metadata": {},
     "output_type": "execute_result"
    }
   ],
   "source": [
    "no_default_consensus"
   ]
  },
  {
   "cell_type": "code",
   "execution_count": 12,
   "id": "7d661feb",
   "metadata": {},
   "outputs": [
    {
     "data": {
      "text/plain": [
       "array([-127,    0, -127, ..., -127, -127, -127])"
      ]
     },
     "execution_count": 12,
     "metadata": {},
     "output_type": "execute_result"
    }
   ],
   "source": [
    "labels = np.where(default_consensus == no_default_consensus, default_consensus, -127)\n",
    "labels"
   ]
  },
  {
   "cell_type": "code",
   "execution_count": 13,
   "id": "d1dfc1f7",
   "metadata": {},
   "outputs": [
    {
     "data": {
      "text/plain": [
       "134356"
      ]
     },
     "execution_count": 13,
     "metadata": {},
     "output_type": "execute_result"
    }
   ],
   "source": [
    "np.count_nonzero(labels==1)"
   ]
  },
  {
   "cell_type": "code",
   "execution_count": 14,
   "id": "85acc3f4",
   "metadata": {},
   "outputs": [
    {
     "data": {
      "text/plain": [
       "462715"
      ]
     },
     "execution_count": 14,
     "metadata": {},
     "output_type": "execute_result"
    }
   ],
   "source": [
    "np.count_nonzero(labels==0)"
   ]
  },
  {
   "cell_type": "code",
   "execution_count": 15,
   "id": "062eb439",
   "metadata": {},
   "outputs": [
    {
     "data": {
      "text/plain": [
       "327550"
      ]
     },
     "execution_count": 15,
     "metadata": {},
     "output_type": "execute_result"
    }
   ],
   "source": [
    "np.count_nonzero(labels==-127)"
   ]
  },
  {
   "cell_type": "code",
   "execution_count": 16,
   "id": "a2ecc8df",
   "metadata": {},
   "outputs": [
    {
     "data": {
      "text/html": [
       "<div>\n",
       "<style scoped>\n",
       "    .dataframe tbody tr th:only-of-type {\n",
       "        vertical-align: middle;\n",
       "    }\n",
       "\n",
       "    .dataframe tbody tr th {\n",
       "        vertical-align: top;\n",
       "    }\n",
       "\n",
       "    .dataframe thead th {\n",
       "        text-align: right;\n",
       "    }\n",
       "</style>\n",
       "<table border=\"1\" class=\"dataframe\">\n",
       "  <thead>\n",
       "    <tr style=\"text-align: right;\">\n",
       "      <th></th>\n",
       "      <th>customer_ID</th>\n",
       "      <th>target</th>\n",
       "    </tr>\n",
       "  </thead>\n",
       "  <tbody>\n",
       "    <tr>\n",
       "      <th>0</th>\n",
       "      <td>00000469ba478561f23a92a868bd366de6f6527a684c9a...</td>\n",
       "      <td>-127</td>\n",
       "    </tr>\n",
       "    <tr>\n",
       "      <th>1</th>\n",
       "      <td>00001bf2e77ff879fab36aa4fac689b9ba411dae63ae39...</td>\n",
       "      <td>0</td>\n",
       "    </tr>\n",
       "    <tr>\n",
       "      <th>2</th>\n",
       "      <td>0000210045da4f81e5f122c6bde5c2a617d03eef67f82c...</td>\n",
       "      <td>-127</td>\n",
       "    </tr>\n",
       "    <tr>\n",
       "      <th>3</th>\n",
       "      <td>00003b41e58ede33b8daf61ab56d9952f17c9ad1c3976c...</td>\n",
       "      <td>-127</td>\n",
       "    </tr>\n",
       "    <tr>\n",
       "      <th>4</th>\n",
       "      <td>00004b22eaeeeb0ec976890c1d9bfc14fd9427e98c4ee9...</td>\n",
       "      <td>1</td>\n",
       "    </tr>\n",
       "    <tr>\n",
       "      <th>...</th>\n",
       "      <td>...</td>\n",
       "      <td>...</td>\n",
       "    </tr>\n",
       "    <tr>\n",
       "      <th>924616</th>\n",
       "      <td>ffff952c631f2c911b8a2a8ca56ea6e656309a83d2f64c...</td>\n",
       "      <td>0</td>\n",
       "    </tr>\n",
       "    <tr>\n",
       "      <th>924617</th>\n",
       "      <td>ffffcf5df59e5e0bba2a5ac4578a34e2b5aa64a1546cd3...</td>\n",
       "      <td>1</td>\n",
       "    </tr>\n",
       "    <tr>\n",
       "      <th>924618</th>\n",
       "      <td>ffffd61f098cc056dbd7d2a21380c4804bbfe60856f475...</td>\n",
       "      <td>-127</td>\n",
       "    </tr>\n",
       "    <tr>\n",
       "      <th>924619</th>\n",
       "      <td>ffffddef1fc3643ea179c93245b68dca0f36941cd83977...</td>\n",
       "      <td>-127</td>\n",
       "    </tr>\n",
       "    <tr>\n",
       "      <th>924620</th>\n",
       "      <td>fffffa7cf7e453e1acc6a1426475d5cb9400859f82ff61...</td>\n",
       "      <td>-127</td>\n",
       "    </tr>\n",
       "  </tbody>\n",
       "</table>\n",
       "<p>924621 rows × 2 columns</p>\n",
       "</div>"
      ],
      "text/plain": [
       "                                              customer_ID  target\n",
       "0       00000469ba478561f23a92a868bd366de6f6527a684c9a...    -127\n",
       "1       00001bf2e77ff879fab36aa4fac689b9ba411dae63ae39...       0\n",
       "2       0000210045da4f81e5f122c6bde5c2a617d03eef67f82c...    -127\n",
       "3       00003b41e58ede33b8daf61ab56d9952f17c9ad1c3976c...    -127\n",
       "4       00004b22eaeeeb0ec976890c1d9bfc14fd9427e98c4ee9...       1\n",
       "...                                                   ...     ...\n",
       "924616  ffff952c631f2c911b8a2a8ca56ea6e656309a83d2f64c...       0\n",
       "924617  ffffcf5df59e5e0bba2a5ac4578a34e2b5aa64a1546cd3...       1\n",
       "924618  ffffd61f098cc056dbd7d2a21380c4804bbfe60856f475...    -127\n",
       "924619  ffffddef1fc3643ea179c93245b68dca0f36941cd83977...    -127\n",
       "924620  fffffa7cf7e453e1acc6a1426475d5cb9400859f82ff61...    -127\n",
       "\n",
       "[924621 rows x 2 columns]"
      ]
     },
     "execution_count": 16,
     "metadata": {},
     "output_type": "execute_result"
    }
   ],
   "source": [
    "consensus_df[\"target\"] = labels\n",
    "del consensus_df['default_count'], consensus_df['default_pct']\n",
    "consensus_df"
   ]
  },
  {
   "cell_type": "code",
   "execution_count": 17,
   "id": "c2605aa7",
   "metadata": {},
   "outputs": [],
   "source": [
    "consensus_df.to_csv(config[\"ENGINEERED_DATA\"] + \"test_labels.csv\", index=False)"
   ]
  },
  {
   "cell_type": "code",
   "execution_count": null,
   "id": "de9488f4",
   "metadata": {},
   "outputs": [],
   "source": []
  }
 ],
 "metadata": {
  "kernelspec": {
   "display_name": "Python 3 (ipykernel)",
   "language": "python",
   "name": "python3"
  },
  "language_info": {
   "codemirror_mode": {
    "name": "ipython",
    "version": 3
   },
   "file_extension": ".py",
   "mimetype": "text/x-python",
   "name": "python",
   "nbconvert_exporter": "python",
   "pygments_lexer": "ipython3",
   "version": "3.10.4"
  }
 },
 "nbformat": 4,
 "nbformat_minor": 5
}
