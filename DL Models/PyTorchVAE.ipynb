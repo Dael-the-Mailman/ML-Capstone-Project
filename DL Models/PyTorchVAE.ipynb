{
 "cells": [
  {
   "cell_type": "code",
   "execution_count": 1,
   "id": "955a9f62",
   "metadata": {},
   "outputs": [],
   "source": [
    "%matplotlib inline\n",
    "import torch\n",
    "from torch.distributions import Normal\n",
    "import torchvision\n",
    "import numpy as np\n",
    "import matplotlib.pyplot as plt\n",
    "import torch.nn as nn\n",
    "import torch.optim as optim\n",
    "import torch.nn.functional as F\n",
    "from torchvision.utils import make_grid\n",
    "import torchvision.transforms as transforms\n",
    "from tqdm import tqdm\n",
    "from torchvision.utils import save_image"
   ]
  },
  {
   "cell_type": "code",
   "execution_count": 2,
   "id": "352e3e4b",
   "metadata": {},
   "outputs": [],
   "source": [
    "directory = './'"
   ]
  },
  {
   "cell_type": "code",
   "execution_count": 3,
   "id": "63b9b5c5",
   "metadata": {},
   "outputs": [
    {
     "data": {
      "text/plain": [
       "Dataset MNIST\n",
       "    Number of datapoints: 60000\n",
       "    Root location: E:/datasets/\n",
       "    Split: Train"
      ]
     },
     "execution_count": 3,
     "metadata": {},
     "output_type": "execute_result"
    }
   ],
   "source": [
    "torchvision.datasets.MNIST(directory, train=True, download=True)"
   ]
  },
  {
   "cell_type": "code",
   "execution_count": 4,
   "id": "7fd0c527",
   "metadata": {},
   "outputs": [],
   "source": [
    "images, ground_truth = torch.load(directory + \"MNIST/processed/training.pt\")"
   ]
  },
  {
   "cell_type": "code",
   "execution_count": 5,
   "id": "fa633611",
   "metadata": {},
   "outputs": [
    {
     "name": "stdout",
     "output_type": "stream",
     "text": [
      "torch.Size([60000, 28, 28])\n",
      "torch.Size([60000])\n"
     ]
    }
   ],
   "source": [
    "print(images.shape)\n",
    "print(ground_truth.shape)"
   ]
  },
  {
   "cell_type": "code",
   "execution_count": 6,
   "id": "eac49ac4",
   "metadata": {},
   "outputs": [
    {
     "name": "stdout",
     "output_type": "stream",
     "text": [
      "tensor(0, dtype=torch.uint8)\n",
      "tensor(255, dtype=torch.uint8)\n"
     ]
    }
   ],
   "source": [
    "print(torch.min(images[0]))\n",
    "print(torch.max(images[0]))"
   ]
  },
  {
   "cell_type": "code",
   "execution_count": 7,
   "id": "110941b9",
   "metadata": {},
   "outputs": [
    {
     "name": "stdout",
     "output_type": "stream",
     "text": [
      "tensor(7)\n"
     ]
    }
   ],
   "source": [
    "image_index = 15\n",
    "\n",
    "print(ground_truth[image_index])\n",
    "# plt.imshow(images[image_index], cmap='gray')"
   ]
  },
  {
   "cell_type": "code",
   "execution_count": 8,
   "id": "c57d44bf",
   "metadata": {},
   "outputs": [],
   "source": [
    "from torch.utils.data import Dataset\n",
    "\n",
    "class MNISTDataset(Dataset):\n",
    "    def __init__(self, path):\n",
    "        self.images, self.ground_truth = torch.load(path)\n",
    "    \n",
    "    def __getitem__(self, idx):\n",
    "        x = self.images[idx].float()\n",
    "        x = torch.Tensor(x)\n",
    "        x = torch.flatten(x)\n",
    "        return x\n",
    "    \n",
    "    def __len__(self):\n",
    "        return len(self.ground_truth)"
   ]
  },
  {
   "cell_type": "code",
   "execution_count": 9,
   "id": "90f905b0",
   "metadata": {},
   "outputs": [
    {
     "name": "stdout",
     "output_type": "stream",
     "text": [
      "Train dataset length: 60000\n",
      "Test dataset length: 10000\n"
     ]
    }
   ],
   "source": [
    "train_dataset = MNISTDataset(directory + \"MNIST/processed/training.pt\")\n",
    "test_dataset = MNISTDataset(directory + \"MNIST/processed/test.pt\")\n",
    "\n",
    "print(\"Train dataset length:\", len(train_dataset))\n",
    "print(\"Test dataset length:\", len(test_dataset))"
   ]
  },
  {
   "cell_type": "code",
   "execution_count": 10,
   "id": "1a6b4c7a",
   "metadata": {},
   "outputs": [
    {
     "data": {
      "text/plain": [
       "torch.Size([784])"
      ]
     },
     "execution_count": 10,
     "metadata": {},
     "output_type": "execute_result"
    }
   ],
   "source": [
    "train_dataset[15].shape"
   ]
  },
  {
   "cell_type": "code",
   "execution_count": 14,
   "id": "b8afbab4",
   "metadata": {},
   "outputs": [],
   "source": [
    "import torch.nn as nn\n",
    "\n",
    "class AutoEncoder(nn.Module):\n",
    "    \n",
    "    def __init__(self, input_shape, latent_dim=128):\n",
    "        super().__init__()\n",
    "        self.encoder_l1 = nn.Linear(in_features=input_shape, out_features=latent_dim)\n",
    "        self.encoder_l2 = nn.Linear(in_features=latent_dim, out_features=latent_dim)\n",
    "        \n",
    "        self.decoder_l1 = nn.Linear(in_features=latent_dim, out_features=latent_dim)\n",
    "        self.decoder_l2 = nn.Linear(in_features=latent_dim, out_features=input_shape)\n",
    "        \n",
    "    def forward(self, x):\n",
    "        latent = self.run_encoder(x)\n",
    "        x_hat = self.run_decoder(latent)\n",
    "        return x_hat\n",
    "    \n",
    "    def run_encoder(self, x):\n",
    "        output = F.relu(self.encoder_l1(x))\n",
    "        latent = F.relu(self.encoder_l2(output))\n",
    "        return latent\n",
    "    \n",
    "    def run_decoder(self, latent):\n",
    "        output = F.relu(self.decoder_l1(latent))\n",
    "        x_hat = F.relu(self.decoder_l2(output))\n",
    "        return x_hat"
   ]
  },
  {
   "cell_type": "code",
   "execution_count": 15,
   "id": "be2dbd88",
   "metadata": {},
   "outputs": [
    {
     "data": {
      "text/plain": [
       "AutoEncoder(\n",
       "  (encoder_l1): Linear(in_features=784, out_features=128, bias=True)\n",
       "  (encoder_l2): Linear(in_features=128, out_features=128, bias=True)\n",
       "  (decoder_l1): Linear(in_features=128, out_features=128, bias=True)\n",
       "  (decoder_l2): Linear(in_features=128, out_features=784, bias=True)\n",
       ")"
      ]
     },
     "execution_count": 15,
     "metadata": {},
     "output_type": "execute_result"
    }
   ],
   "source": [
    "model = AutoEncoder(input_shape=train_dataset[0].shape[0])\n",
    "model.cuda()"
   ]
  },
  {
   "cell_type": "code",
   "execution_count": 16,
   "id": "a97ed4bb",
   "metadata": {},
   "outputs": [
    {
     "data": {
      "text/plain": [
       "AutoEncoder(\n",
       "  (encoder_l1): Linear(in_features=784, out_features=128, bias=True)\n",
       "  (encoder_l2): Linear(in_features=128, out_features=128, bias=True)\n",
       "  (decoder_l1): Linear(in_features=128, out_features=128, bias=True)\n",
       "  (decoder_l2): Linear(in_features=128, out_features=784, bias=True)\n",
       ")"
      ]
     },
     "execution_count": 16,
     "metadata": {},
     "output_type": "execute_result"
    }
   ],
   "source": [
    "model.train()"
   ]
  },
  {
   "cell_type": "code",
   "execution_count": 17,
   "id": "2cd99874",
   "metadata": {},
   "outputs": [
    {
     "name": "stdout",
     "output_type": "stream",
     "text": [
      "epoch : 1/100, loss = 2066.458537\n",
      "epoch : 6/100, loss = 903.045576\n",
      "epoch : 11/100, loss = 823.641144\n",
      "epoch : 16/100, loss = 788.662906\n",
      "epoch : 21/100, loss = 766.621867\n",
      "epoch : 26/100, loss = 752.876644\n",
      "epoch : 31/100, loss = 742.759293\n",
      "epoch : 36/100, loss = 733.817733\n",
      "epoch : 41/100, loss = 729.049442\n",
      "epoch : 46/100, loss = 725.443281\n",
      "epoch : 51/100, loss = 722.037865\n",
      "epoch : 56/100, loss = 717.985390\n",
      "epoch : 61/100, loss = 715.416301\n",
      "epoch : 66/100, loss = 713.759525\n",
      "epoch : 71/100, loss = 711.816621\n",
      "epoch : 76/100, loss = 710.086370\n",
      "epoch : 81/100, loss = 708.871276\n",
      "epoch : 86/100, loss = 706.901524\n",
      "epoch : 91/100, loss = 706.631080\n",
      "epoch : 96/100, loss = 706.380368\n",
      "epoch: 100/100, loss = 705.344930\n"
     ]
    }
   ],
   "source": [
    "train_loader = torch.utils.data.DataLoader(train_dataset,\n",
    "                                           batch_size=128,\n",
    "                                           shuffle=True)\n",
    "mse = nn.MSELoss()\n",
    "\n",
    "optimizer = optim.Adam(model.parameters(), lr=1e-3)\n",
    "\n",
    "n_epochs = 100\n",
    "\n",
    "for epoch in range(n_epochs):\n",
    "    loss = 0\n",
    "    \n",
    "    for batch_features in train_loader:\n",
    "        batch_features = batch_features.cuda()\n",
    "        \n",
    "        optimizer.zero_grad()\n",
    "        \n",
    "        outputs = model(batch_features)\n",
    "        \n",
    "        train_loss = mse(outputs, batch_features)\n",
    "        \n",
    "        train_loss.backward()\n",
    "        \n",
    "        optimizer.step()\n",
    "        \n",
    "        loss += train_loss.item()\n",
    "    \n",
    "    loss = loss / len(train_loader)\n",
    "    \n",
    "    if epoch % 5 == 0:\n",
    "        print(\"epoch : {}/{}, loss = {:.6f}\".format(epoch + 1, n_epochs, loss))\n",
    "\n",
    "print(\"epoch: {}/{}, loss = {:.6f}\".format(epoch + 1, n_epochs, loss))"
   ]
  },
  {
   "cell_type": "code",
   "execution_count": 18,
   "id": "3080cfb0",
   "metadata": {},
   "outputs": [],
   "source": [
    "model.eval()\n",
    "\n",
    "image_idx = 100\n",
    "\n",
    "image = train_dataset[image_idx].cuda()\n",
    "x_hat = model(image)\n",
    "x_hat = x_hat.detach().cpu().numpy().reshape((28, 28))\n",
    "x_hat = np.around(x_hat)"
   ]
  },
  {
   "cell_type": "code",
   "execution_count": 19,
   "id": "08e64ea7",
   "metadata": {},
   "outputs": [
    {
     "data": {
      "text/plain": [
       "(60000, 128)"
      ]
     },
     "execution_count": 19,
     "metadata": {},
     "output_type": "execute_result"
    }
   ],
   "source": [
    "# Get Latent Representation\n",
    "\n",
    "@torch.no_grad()\n",
    "def get_latent_representation(model, dataloader):\n",
    "    latent_representation = []\n",
    "    for batch in dataloader:\n",
    "        batch = batch.cuda()\n",
    "        latent = model.run_encoder(batch)\n",
    "        latent = latent.cpu().numpy()\n",
    "        latent_representation.append(latent)\n",
    "    latent_representation = np.concatenate(latent_representation)\n",
    "    return latent_representation\n",
    "\n",
    "latent = get_latent_representation(model, train_loader)\n",
    "latent.shape"
   ]
  },
  {
   "cell_type": "code",
   "execution_count": 20,
   "id": "22e891d8",
   "metadata": {},
   "outputs": [],
   "source": [
    "# Variational Auto Encoder tingz\n",
    "\n",
    "kernel_size = 4\n",
    "init_channels = 8\n",
    "image_channels = 1\n",
    "latent_dim = 16"
   ]
  },
  {
   "cell_type": "code",
   "execution_count": 21,
   "id": "0be01d71",
   "metadata": {},
   "outputs": [],
   "source": [
    "class ConvVAE(nn.Module):\n",
    "    def __init__(self,\n",
    "                 image_channels=1,\n",
    "                 kernel_size=4,\n",
    "                 latent_dim=16,\n",
    "                 init_channels=8):\n",
    "        super(ConvVAE, self).__init__()\n",
    "        self.enc1 = nn.Conv2d(\n",
    "            in_channels=image_channels, out_channels=init_channels, \n",
    "            kernel_size=kernel_size, stride=2, padding=1\n",
    "        )\n",
    "        self.enc2 = nn.Conv2d(\n",
    "            in_channels=init_channels, out_channels=init_channels*2, \n",
    "            kernel_size=kernel_size, stride=2, padding=1\n",
    "        )\n",
    "        self.enc3 = nn.Conv2d(\n",
    "            in_channels=init_channels*2, out_channels=init_channels*4, \n",
    "            kernel_size=kernel_size, stride=2, padding=1\n",
    "        )\n",
    "        self.enc4 = nn.Conv2d(\n",
    "            in_channels=init_channels*4, out_channels=64, \n",
    "            kernel_size=kernel_size, stride=2, padding=0\n",
    "        )\n",
    "        \n",
    "        self.fc1 = nn.Linear(64, 128)\n",
    "        self.fc_mu = nn.Linear(128, latent_dim)\n",
    "        self.fc_log_var = nn.Linear(128, latent_dim)\n",
    "        self.fc2 = nn.Linear(latent_dim, 64)\n",
    "        \n",
    "        self.dec1 = nn.ConvTranspose2d(\n",
    "            in_channels=64, out_channels=init_channels*8,\n",
    "            kernel_size=kernel_size, stride=1, padding=0\n",
    "        )\n",
    "        self.dec2 = nn.ConvTranspose2d(\n",
    "            in_channels=init_channels*8, out_channels=init_channels*4,\n",
    "            kernel_size=kernel_size, stride=2, padding=1\n",
    "        )\n",
    "        self.dec3 = nn.ConvTranspose2d(\n",
    "            in_channels=init_channels*4, out_channels=init_channels*2,\n",
    "            kernel_size=kernel_size, stride=2, padding=1\n",
    "        )\n",
    "        self.dec4 = nn.ConvTranspose2d(\n",
    "            in_channels=init_channels*2, out_channels=image_channels,\n",
    "            kernel_size=kernel_size, stride=2, padding=1\n",
    "        )\n",
    "    \n",
    "    def reparameterize(self, mu, log_var):\n",
    "        std = torch.exp(0.5*log_var)\n",
    "        eps = torch.randn_like(std)\n",
    "        sample = mu + (eps * std)\n",
    "        return sample\n",
    "    \n",
    "    def forward(self, x):\n",
    "        x = F.relu(self.enc1(x))\n",
    "        x = F.relu(self.enc2(x))\n",
    "        x = F.relu(self.enc3(x))\n",
    "        x = F.relu(self.enc4(x))\n",
    "        batch, _, _, _ = x.shape\n",
    "        x = F.adaptive_avg_pool2d(x, 1).reshape(batch, -1)\n",
    "        hidden = self.fc1(x)\n",
    "        \n",
    "        mu = self.fc_mu(hidden)\n",
    "        log_var = self.fc_log_var(hidden)\n",
    "        \n",
    "        z = self.reparameterize(mu, log_var)\n",
    "        z = self.fc2(z)\n",
    "        z = z.view(-1, 64, 1, 1)\n",
    "        \n",
    "        x = F.relu(self.dec1(z))\n",
    "        x = F.relu(self.dec2(x))\n",
    "        x = F.relu(self.dec3(x))\n",
    "        reconstruction = torch.sigmoid(self.dec4(x))\n",
    "        return reconstruction, mu, log_var"
   ]
  },
  {
   "cell_type": "code",
   "execution_count": 25,
   "id": "9766df8c",
   "metadata": {},
   "outputs": [],
   "source": [
    "def final_loss(bce_loss, mu, logvar):\n",
    "    BCE = bce_loss\n",
    "    KLD = -0.5 * torch.sum(1 + logvar - mu.pow(2) - logvar.exp())\n",
    "    return BCE + KLD\n",
    "\n",
    "def train(model, dataloader, dataset_size, device, optimizer, criterion):\n",
    "    model.train()\n",
    "    running_loss = 0.0\n",
    "    counter = 0\n",
    "    for i, data in tqdm(enumerate(dataloader),\n",
    "                        total=int(dataset_size/dataloader.batch_size)):\n",
    "        counter += 1\n",
    "        data = data[0]\n",
    "        data = data.to(device)\n",
    "        optimizer.zero_grad()\n",
    "        reconstruction, mu, logvar = model(data)\n",
    "        bce_loss = criterion(reconstruction, data)\n",
    "        loss = final_loss(bce_loss, mu, logvar)\n",
    "        loss.backward()\n",
    "        running_loss += loss.item()\n",
    "        optimizer.step()\n",
    "    train_loss = running_loss / counter\n",
    "    return train_loss\n",
    "\n",
    "def validate(model, dataloader, dataset, device, criterion):\n",
    "    model.eval()\n",
    "    running_loss = 0.0\n",
    "    counter = 0\n",
    "    with torch.no_grad():\n",
    "        for i, data in tqdm(enumerate(dataloader), \n",
    "                            total=int(len(dataset)/dataloader.batch_size)):\n",
    "            counter += 1\n",
    "            data = data[0]\n",
    "            data = data.to(device)\n",
    "            reconstruction, mu, logvar = model(data)\n",
    "            bce_loss = criterion(reconstruction, data)\n",
    "            loss = final_loss(bce_loss, mu, logvar)\n",
    "            running_loss += loss.item()\n",
    "    \n",
    "    val_loss = running_loss / counter\n",
    "    return val_loss"
   ]
  },
  {
   "cell_type": "code",
   "execution_count": 26,
   "id": "aeb0cd41",
   "metadata": {},
   "outputs": [],
   "source": [
    "device = torch.device('cuda' if torch.cuda.is_available else 'cpu')\n",
    "model = ConvVAE().to(device)\n",
    "\n",
    "lr = 0.001\n",
    "epochs = 50\n",
    "batch_size = 64\n",
    "\n",
    "transform = transforms.Compose([\n",
    "    transforms.Resize((32, 32)),\n",
    "    transforms.ToTensor()\n",
    "])\n",
    "\n",
    "trainset = torchvision.datasets.MNIST(\n",
    "    root=directory, train=True, download=False, transform=transform\n",
    ")\n",
    "trainloader = torch.utils.data.DataLoader(\n",
    "    trainset, batch_size=batch_size, shuffle=True\n",
    ")\n",
    "\n",
    "testset = torchvision.datasets.MNIST(\n",
    "    root=directory, train=False, download=False, transform=transform\n",
    ")\n",
    "testloader = torch.utils.data.DataLoader(\n",
    "    testset, batch_size=batch_size, shuffle=True\n",
    ")"
   ]
  },
  {
   "cell_type": "code",
   "execution_count": 27,
   "id": "bb847cc3",
   "metadata": {},
   "outputs": [
    {
     "name": "stdout",
     "output_type": "stream",
     "text": [
      "Epoch 1 of 50\n"
     ]
    },
    {
     "name": "stderr",
     "output_type": "stream",
     "text": [
      "938it [00:16, 57.10it/s]                                                                               \n",
      "157it [00:01, 80.88it/s]                                                                               \n"
     ]
    },
    {
     "name": "stdout",
     "output_type": "stream",
     "text": [
      "Train Loss: 15595.7613\n",
      "Val Loss: 11625.4322\n",
      "Epoch 2 of 50\n"
     ]
    },
    {
     "name": "stderr",
     "output_type": "stream",
     "text": [
      "938it [00:16, 56.40it/s]                                                                               \n",
      "157it [00:01, 85.48it/s]                                                                               \n"
     ]
    },
    {
     "name": "stdout",
     "output_type": "stream",
     "text": [
      "Train Loss: 11197.3220\n",
      "Val Loss: 10927.7700\n",
      "Epoch 3 of 50\n"
     ]
    },
    {
     "name": "stderr",
     "output_type": "stream",
     "text": [
      "938it [00:16, 56.75it/s]                                                                               \n",
      "157it [00:01, 82.57it/s]                                                                               \n"
     ]
    },
    {
     "name": "stdout",
     "output_type": "stream",
     "text": [
      "Train Loss: 10771.3164\n",
      "Val Loss: 10442.1131\n",
      "Epoch 4 of 50\n"
     ]
    },
    {
     "name": "stderr",
     "output_type": "stream",
     "text": [
      "938it [00:16, 56.29it/s]                                                                               \n",
      "157it [00:01, 90.41it/s]                                                                               \n"
     ]
    },
    {
     "name": "stdout",
     "output_type": "stream",
     "text": [
      "Train Loss: 10431.5850\n",
      "Val Loss: 10253.3759\n",
      "Epoch 5 of 50\n"
     ]
    },
    {
     "name": "stderr",
     "output_type": "stream",
     "text": [
      "938it [00:16, 56.24it/s]                                                                               \n",
      "157it [00:01, 81.88it/s]                                                                               \n"
     ]
    },
    {
     "name": "stdout",
     "output_type": "stream",
     "text": [
      "Train Loss: 10293.7804\n",
      "Val Loss: 10273.5549\n",
      "Epoch 6 of 50\n"
     ]
    },
    {
     "name": "stderr",
     "output_type": "stream",
     "text": [
      "938it [00:16, 56.05it/s]                                                                               \n",
      "157it [00:01, 95.39it/s]                                                                               \n"
     ]
    },
    {
     "name": "stdout",
     "output_type": "stream",
     "text": [
      "Train Loss: 10218.7800\n",
      "Val Loss: 10177.7077\n",
      "Epoch 7 of 50\n"
     ]
    },
    {
     "name": "stderr",
     "output_type": "stream",
     "text": [
      "938it [00:16, 57.03it/s]                                                                               \n",
      "157it [00:01, 79.53it/s]                                                                               \n"
     ]
    },
    {
     "name": "stdout",
     "output_type": "stream",
     "text": [
      "Train Loss: 10163.8081\n",
      "Val Loss: 10072.6485\n",
      "Epoch 8 of 50\n"
     ]
    },
    {
     "name": "stderr",
     "output_type": "stream",
     "text": [
      "938it [00:16, 56.62it/s]                                                                               \n",
      "157it [00:01, 79.64it/s]                                                                               \n"
     ]
    },
    {
     "name": "stdout",
     "output_type": "stream",
     "text": [
      "Train Loss: 10118.0810\n",
      "Val Loss: 10028.5627\n",
      "Epoch 9 of 50\n"
     ]
    },
    {
     "name": "stderr",
     "output_type": "stream",
     "text": [
      "938it [00:16, 57.37it/s]                                                                               \n",
      "157it [00:01, 81.60it/s]                                                                               \n"
     ]
    },
    {
     "name": "stdout",
     "output_type": "stream",
     "text": [
      "Train Loss: 10083.0220\n",
      "Val Loss: 10019.4551\n",
      "Epoch 10 of 50\n"
     ]
    },
    {
     "name": "stderr",
     "output_type": "stream",
     "text": [
      "938it [00:16, 56.54it/s]                                                                               \n",
      "157it [00:01, 80.36it/s]                                                                               \n"
     ]
    },
    {
     "name": "stdout",
     "output_type": "stream",
     "text": [
      "Train Loss: 10051.8128\n",
      "Val Loss: 10026.9529\n",
      "Epoch 11 of 50\n"
     ]
    },
    {
     "name": "stderr",
     "output_type": "stream",
     "text": [
      "938it [00:16, 57.88it/s]                                                                               \n",
      "157it [00:01, 82.07it/s]                                                                               \n"
     ]
    },
    {
     "name": "stdout",
     "output_type": "stream",
     "text": [
      "Train Loss: 10027.5616\n",
      "Val Loss: 9944.6373\n",
      "Epoch 12 of 50\n"
     ]
    },
    {
     "name": "stderr",
     "output_type": "stream",
     "text": [
      "938it [00:16, 56.84it/s]                                                                               \n",
      "157it [00:01, 88.20it/s]                                                                               \n"
     ]
    },
    {
     "name": "stdout",
     "output_type": "stream",
     "text": [
      "Train Loss: 10002.6872\n",
      "Val Loss: 9973.0585\n",
      "Epoch 13 of 50\n"
     ]
    },
    {
     "name": "stderr",
     "output_type": "stream",
     "text": [
      "938it [00:16, 57.77it/s]                                                                               \n",
      "157it [00:01, 83.98it/s]                                                                               \n"
     ]
    },
    {
     "name": "stdout",
     "output_type": "stream",
     "text": [
      "Train Loss: 9985.1598\n",
      "Val Loss: 9936.2282\n",
      "Epoch 14 of 50\n"
     ]
    },
    {
     "name": "stderr",
     "output_type": "stream",
     "text": [
      "938it [00:16, 56.84it/s]                                                                               \n",
      "157it [00:01, 83.14it/s]                                                                               \n"
     ]
    },
    {
     "name": "stdout",
     "output_type": "stream",
     "text": [
      "Train Loss: 9964.2664\n",
      "Val Loss: 9951.2518\n",
      "Epoch 15 of 50\n"
     ]
    },
    {
     "name": "stderr",
     "output_type": "stream",
     "text": [
      "938it [00:16, 57.01it/s]                                                                               \n",
      "157it [00:01, 88.43it/s]                                                                               \n"
     ]
    },
    {
     "name": "stdout",
     "output_type": "stream",
     "text": [
      "Train Loss: 9956.1454\n",
      "Val Loss: 9922.9013\n",
      "Epoch 16 of 50\n"
     ]
    },
    {
     "name": "stderr",
     "output_type": "stream",
     "text": [
      "938it [00:16, 57.71it/s]                                                                               \n",
      "157it [00:01, 88.88it/s]                                                                               \n"
     ]
    },
    {
     "name": "stdout",
     "output_type": "stream",
     "text": [
      "Train Loss: 9935.0501\n",
      "Val Loss: 9881.2599\n",
      "Epoch 17 of 50\n"
     ]
    },
    {
     "name": "stderr",
     "output_type": "stream",
     "text": [
      "938it [00:16, 56.32it/s]                                                                               \n",
      "157it [00:01, 82.08it/s]                                                                               \n"
     ]
    },
    {
     "name": "stdout",
     "output_type": "stream",
     "text": [
      "Train Loss: 9865.2870\n",
      "Val Loss: 9808.8569\n",
      "Epoch 18 of 50\n"
     ]
    },
    {
     "name": "stderr",
     "output_type": "stream",
     "text": [
      "938it [00:16, 56.35it/s]                                                                               \n",
      "157it [00:01, 80.26it/s]                                                                               \n"
     ]
    },
    {
     "name": "stdout",
     "output_type": "stream",
     "text": [
      "Train Loss: 9803.7313\n",
      "Val Loss: 9756.2090\n",
      "Epoch 19 of 50\n"
     ]
    },
    {
     "name": "stderr",
     "output_type": "stream",
     "text": [
      "938it [00:16, 56.57it/s]                                                                               \n",
      "157it [00:02, 77.87it/s]                                                                               \n"
     ]
    },
    {
     "name": "stdout",
     "output_type": "stream",
     "text": [
      "Train Loss: 9775.9512\n",
      "Val Loss: 9747.2231\n",
      "Epoch 20 of 50\n"
     ]
    },
    {
     "name": "stderr",
     "output_type": "stream",
     "text": [
      "938it [00:16, 57.16it/s]                                                                               \n",
      "157it [00:01, 81.03it/s]                                                                               \n"
     ]
    },
    {
     "name": "stdout",
     "output_type": "stream",
     "text": [
      "Train Loss: 9757.0365\n",
      "Val Loss: 9713.4075\n",
      "Epoch 21 of 50\n"
     ]
    },
    {
     "name": "stderr",
     "output_type": "stream",
     "text": [
      "938it [00:16, 56.35it/s]                                                                               \n",
      "157it [00:01, 81.12it/s]                                                                               \n"
     ]
    },
    {
     "name": "stdout",
     "output_type": "stream",
     "text": [
      "Train Loss: 9735.8339\n",
      "Val Loss: 9696.2199\n",
      "Epoch 22 of 50\n"
     ]
    },
    {
     "name": "stderr",
     "output_type": "stream",
     "text": [
      "938it [00:16, 56.38it/s]                                                                               \n",
      "157it [00:01, 81.13it/s]                                                                               \n"
     ]
    },
    {
     "name": "stdout",
     "output_type": "stream",
     "text": [
      "Train Loss: 9718.9127\n",
      "Val Loss: 9663.3267\n",
      "Epoch 23 of 50\n"
     ]
    },
    {
     "name": "stderr",
     "output_type": "stream",
     "text": [
      "938it [00:16, 56.72it/s]                                                                               \n",
      "157it [00:01, 81.53it/s]                                                                               \n"
     ]
    },
    {
     "name": "stdout",
     "output_type": "stream",
     "text": [
      "Train Loss: 9708.8836\n",
      "Val Loss: 9678.0130\n",
      "Epoch 24 of 50\n"
     ]
    },
    {
     "name": "stderr",
     "output_type": "stream",
     "text": [
      "938it [00:16, 56.44it/s]                                                                               \n",
      "157it [00:01, 81.58it/s]                                                                               \n"
     ]
    },
    {
     "name": "stdout",
     "output_type": "stream",
     "text": [
      "Train Loss: 9695.5101\n",
      "Val Loss: 9690.4778\n",
      "Epoch 25 of 50\n"
     ]
    },
    {
     "name": "stderr",
     "output_type": "stream",
     "text": [
      "938it [00:16, 56.37it/s]                                                                               \n",
      "157it [00:01, 84.41it/s]                                                                               \n"
     ]
    },
    {
     "name": "stdout",
     "output_type": "stream",
     "text": [
      "Train Loss: 9684.0017\n",
      "Val Loss: 9642.3997\n",
      "Epoch 26 of 50\n"
     ]
    },
    {
     "name": "stderr",
     "output_type": "stream",
     "text": [
      "938it [00:16, 56.92it/s]                                                                               \n",
      "157it [00:01, 84.02it/s]                                                                               \n"
     ]
    },
    {
     "name": "stdout",
     "output_type": "stream",
     "text": [
      "Train Loss: 9674.0161\n",
      "Val Loss: 9639.9700\n",
      "Epoch 27 of 50\n"
     ]
    },
    {
     "name": "stderr",
     "output_type": "stream",
     "text": [
      "938it [00:16, 57.48it/s]                                                                               \n",
      "157it [00:01, 80.01it/s]                                                                               \n"
     ]
    },
    {
     "name": "stdout",
     "output_type": "stream",
     "text": [
      "Train Loss: 9663.8914\n",
      "Val Loss: 9650.0596\n",
      "Epoch 28 of 50\n"
     ]
    },
    {
     "name": "stderr",
     "output_type": "stream",
     "text": [
      "938it [00:16, 56.68it/s]                                                                               \n",
      "157it [00:01, 81.25it/s]                                                                               \n"
     ]
    },
    {
     "name": "stdout",
     "output_type": "stream",
     "text": [
      "Train Loss: 9654.3253\n",
      "Val Loss: 9615.5667\n",
      "Epoch 29 of 50\n"
     ]
    },
    {
     "name": "stderr",
     "output_type": "stream",
     "text": [
      "938it [00:16, 56.40it/s]                                                                               \n",
      "157it [00:01, 84.50it/s]                                                                               \n"
     ]
    },
    {
     "name": "stdout",
     "output_type": "stream",
     "text": [
      "Train Loss: 9643.8870\n",
      "Val Loss: 9660.8429\n",
      "Epoch 30 of 50\n"
     ]
    },
    {
     "name": "stderr",
     "output_type": "stream",
     "text": [
      "938it [00:16, 56.59it/s]                                                                               \n",
      "157it [00:01, 80.37it/s]                                                                               \n"
     ]
    },
    {
     "name": "stdout",
     "output_type": "stream",
     "text": [
      "Train Loss: 9640.3193\n",
      "Val Loss: 9625.5177\n",
      "Epoch 31 of 50\n"
     ]
    },
    {
     "name": "stderr",
     "output_type": "stream",
     "text": [
      "938it [00:16, 55.55it/s]                                                                               \n",
      "157it [00:01, 82.93it/s]                                                                               \n"
     ]
    },
    {
     "name": "stdout",
     "output_type": "stream",
     "text": [
      "Train Loss: 9634.5163\n",
      "Val Loss: 9607.5148\n",
      "Epoch 32 of 50\n"
     ]
    },
    {
     "name": "stderr",
     "output_type": "stream",
     "text": [
      "938it [00:16, 56.14it/s]                                                                               \n",
      "157it [00:01, 80.44it/s]                                                                               \n"
     ]
    },
    {
     "name": "stdout",
     "output_type": "stream",
     "text": [
      "Train Loss: 9624.7772\n",
      "Val Loss: 9695.2729\n",
      "Epoch 33 of 50\n"
     ]
    },
    {
     "name": "stderr",
     "output_type": "stream",
     "text": [
      "938it [00:16, 56.49it/s]                                                                               \n",
      "157it [00:01, 94.35it/s]                                                                               \n"
     ]
    },
    {
     "name": "stdout",
     "output_type": "stream",
     "text": [
      "Train Loss: 9620.3113\n",
      "Val Loss: 9601.2465\n",
      "Epoch 34 of 50\n"
     ]
    },
    {
     "name": "stderr",
     "output_type": "stream",
     "text": [
      "938it [00:16, 57.08it/s]                                                                               \n",
      "157it [00:01, 85.67it/s]                                                                               \n"
     ]
    },
    {
     "name": "stdout",
     "output_type": "stream",
     "text": [
      "Train Loss: 9614.3552\n",
      "Val Loss: 9633.7184\n",
      "Epoch 35 of 50\n"
     ]
    },
    {
     "name": "stderr",
     "output_type": "stream",
     "text": [
      "938it [00:16, 57.55it/s]                                                                               \n",
      "157it [00:01, 87.97it/s]                                                                               \n"
     ]
    },
    {
     "name": "stdout",
     "output_type": "stream",
     "text": [
      "Train Loss: 9610.9361\n",
      "Val Loss: 9649.0442\n",
      "Epoch 36 of 50\n"
     ]
    },
    {
     "name": "stderr",
     "output_type": "stream",
     "text": [
      "938it [00:16, 56.76it/s]                                                                               \n",
      "157it [00:01, 82.67it/s]                                                                               \n"
     ]
    },
    {
     "name": "stdout",
     "output_type": "stream",
     "text": [
      "Train Loss: 9605.5630\n",
      "Val Loss: 9591.9820\n",
      "Epoch 37 of 50\n"
     ]
    },
    {
     "name": "stderr",
     "output_type": "stream",
     "text": [
      "938it [00:16, 56.50it/s]                                                                               \n",
      "157it [00:01, 87.42it/s]                                                                               \n"
     ]
    },
    {
     "name": "stdout",
     "output_type": "stream",
     "text": [
      "Train Loss: 9596.9719\n",
      "Val Loss: 9598.1109\n",
      "Epoch 38 of 50\n"
     ]
    },
    {
     "name": "stderr",
     "output_type": "stream",
     "text": [
      "938it [00:16, 57.06it/s]                                                                               \n",
      "157it [00:01, 82.32it/s]                                                                               \n"
     ]
    },
    {
     "name": "stdout",
     "output_type": "stream",
     "text": [
      "Train Loss: 9596.0973\n",
      "Val Loss: 9629.1912\n",
      "Epoch 39 of 50\n"
     ]
    },
    {
     "name": "stderr",
     "output_type": "stream",
     "text": [
      "938it [00:16, 56.98it/s]                                                                               \n",
      "157it [00:01, 82.32it/s]                                                                               \n"
     ]
    },
    {
     "name": "stdout",
     "output_type": "stream",
     "text": [
      "Train Loss: 9589.6874\n",
      "Val Loss: 9571.7346\n",
      "Epoch 40 of 50\n"
     ]
    },
    {
     "name": "stderr",
     "output_type": "stream",
     "text": [
      "938it [00:16, 56.50it/s]                                                                               \n",
      "157it [00:01, 81.22it/s]                                                                               \n"
     ]
    },
    {
     "name": "stdout",
     "output_type": "stream",
     "text": [
      "Train Loss: 9582.6654\n",
      "Val Loss: 9621.4914\n",
      "Epoch 41 of 50\n"
     ]
    },
    {
     "name": "stderr",
     "output_type": "stream",
     "text": [
      "938it [00:16, 56.11it/s]                                                                               \n",
      "157it [00:01, 93.98it/s]                                                                               \n"
     ]
    },
    {
     "name": "stdout",
     "output_type": "stream",
     "text": [
      "Train Loss: 9582.8695\n",
      "Val Loss: 9557.2184\n",
      "Epoch 42 of 50\n"
     ]
    },
    {
     "name": "stderr",
     "output_type": "stream",
     "text": [
      "938it [00:16, 57.81it/s]                                                                               \n",
      "157it [00:01, 81.18it/s]                                                                               \n"
     ]
    },
    {
     "name": "stdout",
     "output_type": "stream",
     "text": [
      "Train Loss: 9579.0488\n",
      "Val Loss: 9565.9947\n",
      "Epoch 43 of 50\n"
     ]
    },
    {
     "name": "stderr",
     "output_type": "stream",
     "text": [
      "938it [00:16, 57.04it/s]                                                                               \n",
      "157it [00:01, 93.54it/s]                                                                               \n"
     ]
    },
    {
     "name": "stdout",
     "output_type": "stream",
     "text": [
      "Train Loss: 9572.7386\n",
      "Val Loss: 9575.9015\n",
      "Epoch 44 of 50\n"
     ]
    },
    {
     "name": "stderr",
     "output_type": "stream",
     "text": [
      "938it [00:16, 56.79it/s]                                                                               \n",
      "157it [00:01, 92.45it/s]                                                                               \n"
     ]
    },
    {
     "name": "stdout",
     "output_type": "stream",
     "text": [
      "Train Loss: 9571.6927\n",
      "Val Loss: 9559.6248\n",
      "Epoch 45 of 50\n"
     ]
    },
    {
     "name": "stderr",
     "output_type": "stream",
     "text": [
      "938it [00:16, 56.59it/s]                                                                               \n",
      "157it [00:01, 89.64it/s]                                                                               \n"
     ]
    },
    {
     "name": "stdout",
     "output_type": "stream",
     "text": [
      "Train Loss: 9567.5542\n",
      "Val Loss: 9602.0897\n",
      "Epoch 46 of 50\n"
     ]
    },
    {
     "name": "stderr",
     "output_type": "stream",
     "text": [
      "938it [00:16, 57.44it/s]                                                                               \n",
      "157it [00:01, 81.35it/s]                                                                               \n"
     ]
    },
    {
     "name": "stdout",
     "output_type": "stream",
     "text": [
      "Train Loss: 9561.8259\n",
      "Val Loss: 9586.3184\n",
      "Epoch 47 of 50\n"
     ]
    },
    {
     "name": "stderr",
     "output_type": "stream",
     "text": [
      "938it [00:16, 56.55it/s]                                                                               \n",
      "157it [00:01, 87.80it/s]                                                                               \n"
     ]
    },
    {
     "name": "stdout",
     "output_type": "stream",
     "text": [
      "Train Loss: 9560.3071\n",
      "Val Loss: 9562.7909\n",
      "Epoch 48 of 50\n"
     ]
    },
    {
     "name": "stderr",
     "output_type": "stream",
     "text": [
      "938it [00:16, 56.75it/s]                                                                               \n",
      "157it [00:01, 85.99it/s]                                                                               \n"
     ]
    },
    {
     "name": "stdout",
     "output_type": "stream",
     "text": [
      "Train Loss: 9557.1179\n",
      "Val Loss: 9557.8264\n",
      "Epoch 49 of 50\n"
     ]
    },
    {
     "name": "stderr",
     "output_type": "stream",
     "text": [
      "938it [00:16, 55.94it/s]                                                                               \n",
      "157it [00:02, 76.00it/s]                                                                               \n"
     ]
    },
    {
     "name": "stdout",
     "output_type": "stream",
     "text": [
      "Train Loss: 9552.2973\n",
      "Val Loss: 9560.2611\n",
      "Epoch 50 of 50\n"
     ]
    },
    {
     "name": "stderr",
     "output_type": "stream",
     "text": [
      "938it [00:16, 56.34it/s]                                                                               \n",
      "157it [00:01, 92.34it/s]                                                                               "
     ]
    },
    {
     "name": "stdout",
     "output_type": "stream",
     "text": [
      "Train Loss: 9548.3431\n",
      "Val Loss: 9580.2658\n"
     ]
    },
    {
     "name": "stderr",
     "output_type": "stream",
     "text": [
      "\n"
     ]
    }
   ],
   "source": [
    "optimizer = optim.Adam(model.parameters(), lr=lr)\n",
    "\n",
    "criterion = nn.BCELoss(reduction='sum')\n",
    "\n",
    "for epoch in range(epochs):\n",
    "    print(f\"Epoch {epoch+1} of {epochs}\")\n",
    "    \n",
    "    train_epoch_loss = train(\n",
    "        model, trainloader, len(trainset), device, optimizer, criterion\n",
    "    )\n",
    "    valid_epoch_loss = validate(\n",
    "        model, testloader, testset, device, criterion\n",
    "    )\n",
    "    \n",
    "    print(f\"Train Loss: {train_epoch_loss:.4f}\")\n",
    "    print(f\"Val Loss: {valid_epoch_loss:.4f}\")"
   ]
  },
  {
   "cell_type": "code",
   "execution_count": null,
   "id": "57e12c02",
   "metadata": {},
   "outputs": [],
   "source": []
  }
 ],
 "metadata": {
  "kernelspec": {
   "display_name": "Python 3 (ipykernel)",
   "language": "python",
   "name": "python3"
  },
  "language_info": {
   "codemirror_mode": {
    "name": "ipython",
    "version": 3
   },
   "file_extension": ".py",
   "mimetype": "text/x-python",
   "name": "python",
   "nbconvert_exporter": "python",
   "pygments_lexer": "ipython3",
   "version": "3.10.4"
  }
 },
 "nbformat": 4,
 "nbformat_minor": 5
}
