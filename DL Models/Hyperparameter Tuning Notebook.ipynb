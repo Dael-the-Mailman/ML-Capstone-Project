{
 "cells": [
  {
   "cell_type": "markdown",
   "id": "99a86196",
   "metadata": {},
   "source": [
    "# Import Libraries"
   ]
  },
  {
   "cell_type": "code",
   "execution_count": 1,
   "id": "1247d2db",
   "metadata": {},
   "outputs": [],
   "source": [
    "import torch\n",
    "import optuna\n",
    "import numpy as np\n",
    "import torch.nn.functional as F\n",
    "from torch.nn.utils import clip_grad_norm_\n",
    "from torch.optim import Adam\n",
    "import pandas as pd\n",
    "from network import TabNet\n",
    "from dotenv import dotenv_values\n",
    "from datetime import datetime"
   ]
  },
  {
   "cell_type": "markdown",
   "id": "e8702d9a",
   "metadata": {},
   "source": [
    "# Setup and Configuration"
   ]
  },
  {
   "cell_type": "code",
   "execution_count": 2,
   "id": "1b53a17d",
   "metadata": {},
   "outputs": [
    {
     "name": "stdout",
     "output_type": "stream",
     "text": [
      "Using cuda device\n"
     ]
    }
   ],
   "source": [
    "config = dotenv_values(\"../.env\")\n",
    "device = torch.device('cuda' if torch.cuda.is_available() else 'cpu')\n",
    "print(\"Using\", device, \"device\")\n",
    "BATCH_SIZE = 1024\n",
    "PATIENCE = 3 # How many epochs will we wait until performance gets better or not?\n",
    "SAVE_PATH = \"./model_parameters/\"\n",
    "TIMEOUT = 12*60*60"
   ]
  },
  {
   "cell_type": "markdown",
   "id": "fab4168f",
   "metadata": {},
   "source": [
    "# Metric Used For Validation Step"
   ]
  },
  {
   "cell_type": "code",
   "execution_count": 3,
   "id": "efd190d8",
   "metadata": {},
   "outputs": [],
   "source": [
    "def amex_metric_mod(y_true, y_pred):\n",
    "    labels     = np.transpose(np.array([y_true, y_pred]))\n",
    "    labels     = labels[labels[:, 1].argsort()[::-1]]\n",
    "    weights    = np.where(labels[:,0]==0, 20, 1)\n",
    "    cut_vals   = labels[np.cumsum(weights) <= int(0.04 * np.sum(weights))]\n",
    "    top_four   = np.sum(cut_vals[:,0]) / np.sum(labels[:,0])\n",
    "\n",
    "    gini = [0,0]\n",
    "    for i in [1,0]:\n",
    "        labels         = np.transpose(np.array([y_true, y_pred]))\n",
    "        labels         = labels[labels[:, i].argsort()[::-1]]\n",
    "        weight         = np.where(labels[:,0]==0, 20, 1)\n",
    "        weight_random  = np.cumsum(weight / np.sum(weight))\n",
    "        total_pos      = np.sum(labels[:, 0] *  weight)\n",
    "        cum_pos_found  = np.cumsum(labels[:, 0] * weight)\n",
    "        lorentz        = cum_pos_found / total_pos\n",
    "        gini[i]        = np.sum((lorentz - weight_random) * weight)\n",
    "\n",
    "    return 0.5 * (gini[1]/gini[0] + top_four)"
   ]
  },
  {
   "cell_type": "markdown",
   "id": "f620c24d",
   "metadata": {},
   "source": [
    "# Optuna Setup and Training"
   ]
  },
  {
   "cell_type": "code",
   "execution_count": 4,
   "id": "0abc7eea",
   "metadata": {},
   "outputs": [],
   "source": [
    "def objective(trial):\n",
    "    # Model Hyperparameters\n",
    "    param = {\n",
    "        \"input_dim\": 2319,\n",
    "        \"output_dim\": 1,\n",
    "        \"n_d\": trial.suggest_int(\"n_d\", 4, 64),\n",
    "        \"n_a\": trial.suggest_int(\"n_a\", 4, 64),\n",
    "        \"n_steps\": trial.suggest_int(\"n_steps\", 3, 10),\n",
    "        \"gamma\": trial.suggest_float(\"gamma\", 1.0, 2.0, log=True),\n",
    "        \"cat_idxs\": [],\n",
    "        \"cat_dims\": [],\n",
    "        \"cat_emb_dim\": 1,\n",
    "        \"n_independent\": 2,\n",
    "        \"n_shared\": 2,\n",
    "        \"epsilon\": 1e-15,\n",
    "        \"vbs\": 128,\n",
    "        \"momentum\": trial.suggest_float(\"momentum\", 0.02, 1.0, log=True)\n",
    "    }\n",
    "    model = TabNet(**param).to(device)\n",
    "    optimizer = Adam(model.parameters(), lr=2e-2)\n",
    "\n",
    "    first_pass = True\n",
    "    oof_tensors = {}\n",
    "    best_metric = 0.0 # Keeps track of best metric performance\n",
    "    patience_count = 0\n",
    "    for epoch in range(1,101): # Runs maximum of 100 epochs\n",
    "        # Load Data\n",
    "        labels = pd.read_csv(config[\"TRAIN_LABELS_PATH\"], \n",
    "                             chunksize=BATCH_SIZE)\n",
    "        df = pd.read_csv(config[\"WRANGLED_DATA\"] + \"scaled_train/train-0.csv.part\", \n",
    "                         chunksize=BATCH_SIZE)\n",
    "        total_loss = 0.0\n",
    "        model.train()\n",
    "        for i, (chunk, chunk_labels) in enumerate(zip(df, labels)):\n",
    "            random = np.random.randint(5) # Determines which entries are going to be used in oof prediction\n",
    "            x = torch.Tensor(chunk.values).to(device, non_blocking=True)\n",
    "            y = torch.Tensor(chunk_labels[\"target\"].values).reshape(-1, 1).to(device, non_blocking=True)\n",
    "            if random == 0 and first_pass:\n",
    "                # If it's the first pass create the validation set\n",
    "                oof_tensors[i] = (x, y)\n",
    "                continue\n",
    "            if not first_pass and i in oof_tensors.keys():\n",
    "                # If not the first pass then skip the training on current entry\n",
    "                continue\n",
    "\n",
    "            # Train Model\n",
    "            y_hat, M_loss = model(x)\n",
    "            loss = F.mse_loss(y_hat, y) - (1e-3*M_loss)\n",
    "            loss.backward()\n",
    "            clip_grad_norm_(model.parameters(), 1) # Clip gradient\n",
    "            optimizer.step()\n",
    "            total_loss += loss.cpu().detach().numpy().item()\n",
    "            \n",
    "            if i % 2 == 0:\n",
    "                optimizer.zero_grad(set_to_none=True)\n",
    "        # Validate \n",
    "        model.eval()\n",
    "        preds = []\n",
    "        labels = []\n",
    "        for x, y in list(oof_tensors.values()):\n",
    "            y_hat, _ = model(x)\n",
    "            preds += y_hat.cpu().detach().numpy().flatten().tolist()\n",
    "            labels += y.cpu().detach().numpy().flatten().tolist()\n",
    "        metric = amex_metric_mod(labels, preds)\n",
    "        print(f\"Epoch {epoch} | train_loss: {total_loss / (i-len(oof_tensors)+1):.4f} | validation_metric: {metric:.4f}\")\n",
    "        first_pass = False\n",
    "\n",
    "        # Saves model based on performance over time\n",
    "        if metric > best_metric:\n",
    "            best_metric = metric\n",
    "            patience_count = 0\n",
    "            id = datetime.now().strftime(\"%d-%m-%Y-%H%M%S\")\n",
    "            torch.save(model.state_dict(), SAVE_PATH+f\"Optuna_TabNet_{best_metric:.4f}_{id}.pt\")\n",
    "        else:\n",
    "            patience_count += 1\n",
    "        \n",
    "        # If model hasn't improved in given time training stops\n",
    "        if patience_count >= PATIENCE:\n",
    "            print(\"Early Stopping Activated!!!\")\n",
    "            break\n",
    "    \n",
    "    return best_metric"
   ]
  },
  {
   "cell_type": "code",
   "execution_count": null,
   "id": "5e24494a",
   "metadata": {},
   "outputs": [
    {
     "name": "stderr",
     "output_type": "stream",
     "text": [
      "\u001b[32m[I 2022-11-05 11:28:53,633]\u001b[0m A new study created in memory with name: no-name-4ee1d826-4c6c-46df-a94d-0367340360ef\u001b[0m\n"
     ]
    },
    {
     "name": "stdout",
     "output_type": "stream",
     "text": [
      "Epoch 1 | train_loss: 0.4185 | validation_metric: 0.6046\n",
      "Epoch 2 | train_loss: 0.1027 | validation_metric: 0.6506\n",
      "Epoch 3 | train_loss: 0.0913 | validation_metric: 0.6852\n",
      "Epoch 4 | train_loss: 0.0834 | validation_metric: 0.7557\n",
      "Epoch 5 | train_loss: 0.0782 | validation_metric: 0.7671\n",
      "Epoch 6 | train_loss: 0.0757 | validation_metric: 0.7681\n",
      "Epoch 7 | train_loss: 0.0739 | validation_metric: 0.7751\n",
      "Epoch 8 | train_loss: 0.0728 | validation_metric: 0.7764\n",
      "Epoch 9 | train_loss: 0.0716 | validation_metric: 0.7740\n",
      "Epoch 10 | train_loss: 0.0707 | validation_metric: 0.7798\n",
      "Epoch 11 | train_loss: 0.0701 | validation_metric: 0.7729\n",
      "Epoch 12 | train_loss: 0.0708 | validation_metric: 0.7786\n"
     ]
    },
    {
     "name": "stderr",
     "output_type": "stream",
     "text": [
      "\u001b[32m[I 2022-11-05 12:27:08,914]\u001b[0m Trial 0 finished with value: 0.7797502432084173 and parameters: {'n_d': 40, 'n_a': 55, 'n_steps': 7, 'gamma': 1.71575598678367, 'momentum': 0.0764338735749953}. Best is trial 0 with value: 0.7797502432084173.\u001b[0m\n"
     ]
    },
    {
     "name": "stdout",
     "output_type": "stream",
     "text": [
      "Epoch 13 | train_loss: 0.0770 | validation_metric: 0.7743\n",
      "Early Stopping Activated!!!\n",
      "Epoch 1 | train_loss: 0.6492 | validation_metric: 0.5245\n",
      "Epoch 2 | train_loss: 0.1061 | validation_metric: 0.6629\n",
      "Epoch 3 | train_loss: 0.0876 | validation_metric: 0.7270\n",
      "Epoch 4 | train_loss: 0.0803 | validation_metric: 0.7476\n",
      "Epoch 5 | train_loss: 0.0762 | validation_metric: 0.7643\n",
      "Epoch 6 | train_loss: 0.0755 | validation_metric: 0.7696\n",
      "Epoch 7 | train_loss: 0.0727 | validation_metric: 0.7754\n",
      "Epoch 8 | train_loss: 0.0746 | validation_metric: 0.7541\n",
      "Epoch 9 | train_loss: 0.0747 | validation_metric: 0.7737\n"
     ]
    },
    {
     "name": "stderr",
     "output_type": "stream",
     "text": [
      "\u001b[32m[I 2022-11-05 13:13:33,673]\u001b[0m Trial 1 finished with value: 0.7754387018359095 and parameters: {'n_d': 29, 'n_a': 26, 'n_steps': 10, 'gamma': 1.1968457992546584, 'momentum': 0.03280130914370577}. Best is trial 0 with value: 0.7797502432084173.\u001b[0m\n"
     ]
    },
    {
     "name": "stdout",
     "output_type": "stream",
     "text": [
      "Epoch 10 | train_loss: 0.0721 | validation_metric: 0.7700\n",
      "Early Stopping Activated!!!\n",
      "Epoch 1 | train_loss: 2.3147 | validation_metric: 0.6358\n",
      "Epoch 2 | train_loss: 0.0988 | validation_metric: 0.6667\n",
      "Epoch 3 | train_loss: 0.0914 | validation_metric: 0.6843\n",
      "Epoch 4 | train_loss: 0.0844 | validation_metric: 0.7299\n",
      "Epoch 5 | train_loss: 0.0831 | validation_metric: 0.7521\n",
      "Epoch 6 | train_loss: 0.0809 | validation_metric: 0.7533\n",
      "Epoch 7 | train_loss: 0.0753 | validation_metric: 0.7671\n",
      "Epoch 8 | train_loss: 0.0749 | validation_metric: 0.7688\n",
      "Epoch 9 | train_loss: 0.0731 | validation_metric: 0.7724\n",
      "Epoch 10 | train_loss: 0.0721 | validation_metric: 0.7743\n",
      "Epoch 11 | train_loss: 0.0715 | validation_metric: 0.7767\n",
      "Epoch 12 | train_loss: 0.0709 | validation_metric: 0.7753\n",
      "Epoch 13 | train_loss: 0.0709 | validation_metric: 0.7747\n"
     ]
    },
    {
     "name": "stderr",
     "output_type": "stream",
     "text": [
      "\u001b[32m[I 2022-11-05 14:20:19,293]\u001b[0m Trial 2 finished with value: 0.7766513931109005 and parameters: {'n_d': 47, 'n_a': 27, 'n_steps': 10, 'gamma': 1.8719326843827975, 'momentum': 0.042788662750223964}. Best is trial 0 with value: 0.7797502432084173.\u001b[0m\n"
     ]
    },
    {
     "name": "stdout",
     "output_type": "stream",
     "text": [
      "Epoch 14 | train_loss: 0.0698 | validation_metric: 0.7731\n",
      "Early Stopping Activated!!!\n",
      "Epoch 1 | train_loss: 0.1606 | validation_metric: 0.7275\n",
      "Epoch 2 | train_loss: 0.0791 | validation_metric: 0.7508\n",
      "Epoch 3 | train_loss: 0.0750 | validation_metric: 0.7700\n",
      "Epoch 4 | train_loss: 0.0729 | validation_metric: 0.7742\n",
      "Epoch 5 | train_loss: 0.0717 | validation_metric: 0.7693\n",
      "Epoch 6 | train_loss: 0.0714 | validation_metric: 0.7796\n",
      "Epoch 7 | train_loss: 0.0714 | validation_metric: 0.7752\n",
      "Epoch 8 | train_loss: 0.0695 | validation_metric: 0.7768\n"
     ]
    },
    {
     "name": "stderr",
     "output_type": "stream",
     "text": [
      "\u001b[32m[I 2022-11-05 15:00:14,057]\u001b[0m Trial 3 finished with value: 0.7795747148945578 and parameters: {'n_d': 53, 'n_a': 43, 'n_steps': 3, 'gamma': 1.6330216585133142, 'momentum': 0.5191392082414036}. Best is trial 0 with value: 0.7797502432084173.\u001b[0m\n"
     ]
    },
    {
     "name": "stdout",
     "output_type": "stream",
     "text": [
      "Epoch 9 | train_loss: 0.0689 | validation_metric: 0.7678\n",
      "Early Stopping Activated!!!\n",
      "Epoch 1 | train_loss: 0.5245 | validation_metric: 0.6387\n",
      "Epoch 2 | train_loss: 0.1054 | validation_metric: 0.6841\n",
      "Epoch 3 | train_loss: 0.0920 | validation_metric: 0.7196\n",
      "Epoch 4 | train_loss: 0.0831 | validation_metric: 0.6392\n",
      "Epoch 5 | train_loss: 0.0836 | validation_metric: 0.7579\n",
      "Epoch 6 | train_loss: 0.0757 | validation_metric: 0.7702\n",
      "Epoch 7 | train_loss: 0.0840 | validation_metric: 0.7552\n",
      "Epoch 8 | train_loss: 0.0763 | validation_metric: 0.7720\n",
      "Epoch 9 | train_loss: 0.0733 | validation_metric: 0.7776\n",
      "Epoch 10 | train_loss: 0.0728 | validation_metric: 0.7777\n",
      "Epoch 11 | train_loss: 0.0719 | validation_metric: 0.7810\n",
      "Epoch 12 | train_loss: 0.0710 | validation_metric: 0.7819\n",
      "Epoch 13 | train_loss: 0.0702 | validation_metric: 0.7808\n",
      "Epoch 14 | train_loss: 0.0694 | validation_metric: 0.7783\n"
     ]
    },
    {
     "name": "stderr",
     "output_type": "stream",
     "text": [
      "\u001b[32m[I 2022-11-05 16:07:35,933]\u001b[0m Trial 4 finished with value: 0.7818938545255564 and parameters: {'n_d': 30, 'n_a': 58, 'n_steps': 7, 'gamma': 1.616591063855307, 'momentum': 0.08451094264630266}. Best is trial 4 with value: 0.7818938545255564.\u001b[0m\n"
     ]
    },
    {
     "name": "stdout",
     "output_type": "stream",
     "text": [
      "Epoch 15 | train_loss: 0.0687 | validation_metric: 0.7769\n",
      "Early Stopping Activated!!!\n",
      "Epoch 1 | train_loss: 1.5053 | validation_metric: 0.5204\n",
      "Epoch 2 | train_loss: 0.1060 | validation_metric: 0.6370\n",
      "Epoch 3 | train_loss: 0.0999 | validation_metric: 0.6836\n",
      "Epoch 4 | train_loss: 0.0898 | validation_metric: 0.7071\n",
      "Epoch 5 | train_loss: 0.0860 | validation_metric: 0.7052\n",
      "Epoch 6 | train_loss: 0.0811 | validation_metric: 0.7330\n",
      "Epoch 7 | train_loss: 0.0818 | validation_metric: 0.7581\n",
      "Epoch 8 | train_loss: 0.0750 | validation_metric: 0.7690\n",
      "Epoch 9 | train_loss: 0.0743 | validation_metric: 0.7753\n",
      "Epoch 10 | train_loss: 0.0727 | validation_metric: 0.7771\n",
      "Epoch 11 | train_loss: 0.0718 | validation_metric: 0.7800\n",
      "Epoch 12 | train_loss: 0.0711 | validation_metric: 0.7801\n",
      "Epoch 13 | train_loss: 0.0704 | validation_metric: 0.7804\n",
      "Epoch 14 | train_loss: 0.0698 | validation_metric: 0.7802\n",
      "Epoch 15 | train_loss: 0.0692 | validation_metric: 0.7788\n"
     ]
    },
    {
     "name": "stderr",
     "output_type": "stream",
     "text": [
      "\u001b[32m[I 2022-11-05 17:21:45,556]\u001b[0m Trial 5 finished with value: 0.7803673035102572 and parameters: {'n_d': 32, 'n_a': 60, 'n_steps': 10, 'gamma': 1.6547811503254615, 'momentum': 0.17393874629135292}. Best is trial 4 with value: 0.7818938545255564.\u001b[0m\n"
     ]
    },
    {
     "name": "stdout",
     "output_type": "stream",
     "text": [
      "Epoch 16 | train_loss: 0.0684 | validation_metric: 0.7742\n",
      "Early Stopping Activated!!!\n",
      "Epoch 1 | train_loss: 0.4933 | validation_metric: 0.6026\n",
      "Epoch 2 | train_loss: 0.1025 | validation_metric: 0.6815\n",
      "Epoch 3 | train_loss: 0.0862 | validation_metric: 0.7382\n",
      "Epoch 4 | train_loss: 0.0780 | validation_metric: 0.7635\n",
      "Epoch 5 | train_loss: 0.0757 | validation_metric: 0.7588\n",
      "Epoch 6 | train_loss: 0.0819 | validation_metric: 0.7588\n",
      "Epoch 7 | train_loss: 0.0751 | validation_metric: 0.7726\n",
      "Epoch 8 | train_loss: 0.0731 | validation_metric: 0.7769\n",
      "Epoch 9 | train_loss: 0.0733 | validation_metric: 0.7748\n",
      "Epoch 10 | train_loss: 0.0721 | validation_metric: 0.7800\n",
      "Epoch 11 | train_loss: 0.0713 | validation_metric: 0.7822\n",
      "Epoch 12 | train_loss: 0.0724 | validation_metric: 0.7773\n",
      "Epoch 13 | train_loss: 0.0716 | validation_metric: 0.7808\n"
     ]
    },
    {
     "name": "stderr",
     "output_type": "stream",
     "text": [
      "\u001b[32m[I 2022-11-05 18:25:56,862]\u001b[0m Trial 6 finished with value: 0.7822471664786879 and parameters: {'n_d': 13, 'n_a': 9, 'n_steps': 9, 'gamma': 1.3077154313342185, 'momentum': 0.03072144877400083}. Best is trial 6 with value: 0.7822471664786879.\u001b[0m\n"
     ]
    },
    {
     "name": "stdout",
     "output_type": "stream",
     "text": [
      "Epoch 14 | train_loss: 0.0729 | validation_metric: 0.7808\n",
      "Early Stopping Activated!!!\n",
      "Epoch 1 | train_loss: 1.2040 | validation_metric: 0.6062\n",
      "Epoch 2 | train_loss: 0.1011 | validation_metric: 0.6329\n",
      "Epoch 3 | train_loss: 0.1074 | validation_metric: 0.6033\n",
      "Epoch 4 | train_loss: 0.1052 | validation_metric: 0.6887\n",
      "Epoch 5 | train_loss: 0.0912 | validation_metric: 0.7162\n",
      "Epoch 6 | train_loss: 0.0807 | validation_metric: 0.7358\n",
      "Epoch 7 | train_loss: 0.0799 | validation_metric: 0.7653\n",
      "Epoch 8 | train_loss: 0.0749 | validation_metric: 0.7733\n",
      "Epoch 9 | train_loss: 0.0738 | validation_metric: 0.7798\n",
      "Epoch 10 | train_loss: 0.0729 | validation_metric: 0.7798\n",
      "Epoch 11 | train_loss: 0.0715 | validation_metric: 0.7792\n",
      "Epoch 12 | train_loss: 0.0709 | validation_metric: 0.7812\n",
      "Epoch 13 | train_loss: 0.0701 | validation_metric: 0.7814\n",
      "Epoch 14 | train_loss: 0.0750 | validation_metric: 0.7800\n",
      "Epoch 15 | train_loss: 0.0710 | validation_metric: 0.7814\n",
      "Epoch 16 | train_loss: 0.0700 | validation_metric: 0.7800\n",
      "Epoch 17 | train_loss: 0.0690 | validation_metric: 0.7764\n"
     ]
    },
    {
     "name": "stderr",
     "output_type": "stream",
     "text": [
      "\u001b[32m[I 2022-11-05 19:49:28,969]\u001b[0m Trial 7 finished with value: 0.7813892168267009 and parameters: {'n_d': 28, 'n_a': 55, 'n_steps': 10, 'gamma': 1.8124855419952668, 'momentum': 0.04553844226627447}. Best is trial 6 with value: 0.7822471664786879.\u001b[0m\n"
     ]
    },
    {
     "name": "stdout",
     "output_type": "stream",
     "text": [
      "Epoch 18 | train_loss: 0.0684 | validation_metric: 0.7706\n",
      "Early Stopping Activated!!!\n",
      "Epoch 1 | train_loss: 1.0007 | validation_metric: 0.5335\n",
      "Epoch 2 | train_loss: 0.1063 | validation_metric: 0.6632\n",
      "Epoch 3 | train_loss: 0.0869 | validation_metric: 0.6897\n",
      "Epoch 4 | train_loss: 0.0851 | validation_metric: 0.7413\n",
      "Epoch 5 | train_loss: 0.0773 | validation_metric: 0.7584\n",
      "Epoch 6 | train_loss: 0.0740 | validation_metric: 0.7605\n",
      "Epoch 7 | train_loss: 0.0733 | validation_metric: 0.5959\n",
      "Epoch 8 | train_loss: 0.0770 | validation_metric: 0.7722\n",
      "Epoch 9 | train_loss: 0.0729 | validation_metric: 0.7797\n",
      "Epoch 10 | train_loss: 0.0734 | validation_metric: 0.7813\n",
      "Epoch 11 | train_loss: 0.0758 | validation_metric: 0.7728\n",
      "Epoch 12 | train_loss: 0.0797 | validation_metric: 0.7738\n"
     ]
    },
    {
     "name": "stderr",
     "output_type": "stream",
     "text": [
      "\u001b[32m[I 2022-11-05 20:49:24,294]\u001b[0m Trial 8 finished with value: 0.781341239349128 and parameters: {'n_d': 35, 'n_a': 32, 'n_steps': 9, 'gamma': 1.3974897430745419, 'momentum': 0.8289930412147597}. Best is trial 6 with value: 0.7822471664786879.\u001b[0m\n"
     ]
    },
    {
     "name": "stdout",
     "output_type": "stream",
     "text": [
      "Epoch 13 | train_loss: 0.0723 | validation_metric: 0.7799\n",
      "Early Stopping Activated!!!\n",
      "Epoch 1 | train_loss: 0.6101 | validation_metric: 0.6342\n",
      "Epoch 2 | train_loss: 0.0991 | validation_metric: 0.6915\n",
      "Epoch 3 | train_loss: 0.0850 | validation_metric: 0.7400\n",
      "Epoch 4 | train_loss: 0.0791 | validation_metric: 0.7343\n",
      "Epoch 5 | train_loss: 0.0809 | validation_metric: 0.7615\n",
      "Epoch 6 | train_loss: 0.0756 | validation_metric: 0.6872\n",
      "Epoch 7 | train_loss: 0.0796 | validation_metric: 0.7578\n",
      "Epoch 8 | train_loss: 0.0744 | validation_metric: 0.7712\n",
      "Epoch 9 | train_loss: 0.0724 | validation_metric: 0.7717\n",
      "Epoch 10 | train_loss: 0.0719 | validation_metric: 0.7743\n",
      "Epoch 11 | train_loss: 0.0707 | validation_metric: 0.7769\n",
      "Epoch 12 | train_loss: 0.0700 | validation_metric: 0.7782\n",
      "Epoch 13 | train_loss: 0.0694 | validation_metric: 0.7747\n",
      "Epoch 14 | train_loss: 0.0692 | validation_metric: 0.7759\n",
      "Epoch 15 | train_loss: 0.0705 | validation_metric: 0.7794\n",
      "Epoch 16 | train_loss: 0.0683 | validation_metric: 0.7773\n",
      "Epoch 17 | train_loss: 0.0722 | validation_metric: 0.7521\n"
     ]
    },
    {
     "name": "stderr",
     "output_type": "stream",
     "text": [
      "\u001b[32m[I 2022-11-05 22:13:09,727]\u001b[0m Trial 9 finished with value: 0.7794365913343463 and parameters: {'n_d': 50, 'n_a': 39, 'n_steps': 6, 'gamma': 1.5793391148488611, 'momentum': 0.022291812159909608}. Best is trial 6 with value: 0.7822471664786879.\u001b[0m\n"
     ]
    },
    {
     "name": "stdout",
     "output_type": "stream",
     "text": [
      "Epoch 18 | train_loss: 0.0741 | validation_metric: 0.7701\n",
      "Early Stopping Activated!!!\n",
      "Epoch 1 | train_loss: 0.1628 | validation_metric: 0.6785\n",
      "Epoch 2 | train_loss: 0.0952 | validation_metric: 0.6994\n",
      "Epoch 3 | train_loss: 0.0904 | validation_metric: 0.7031\n",
      "Epoch 4 | train_loss: 0.0901 | validation_metric: 0.6967\n",
      "Epoch 5 | train_loss: 0.0901 | validation_metric: 0.7021\n",
      "Epoch 6 | train_loss: 0.0894 | validation_metric: 0.7053\n",
      "Epoch 7 | train_loss: 0.0892 | validation_metric: 0.7092\n",
      "Epoch 8 | train_loss: 0.0861 | validation_metric: 0.7295\n",
      "Epoch 9 | train_loss: 0.0814 | validation_metric: 0.7503\n",
      "Epoch 10 | train_loss: 0.0819 | validation_metric: 0.7380\n",
      "Epoch 11 | train_loss: 0.0825 | validation_metric: 0.7478\n"
     ]
    }
   ],
   "source": [
    "study = optuna.create_study(direction=\"maximize\")\n",
    "study.optimize(objective, timeout=TIMEOUT)\n",
    "\n",
    "\n",
    "print(\"Number of finished trials: \", len(study.trials))\n",
    "print(\"Best trial:\")\n",
    "trial = study.best_trial\n",
    "\n",
    "print(\"  Value: {}\".format(trial.value))\n",
    "print(\"  Params: \")\n",
    "for key, value in trial.params.items():\n",
    "    print(\"    {}: {}\".format(key, value))"
   ]
  }
 ],
 "metadata": {
  "kernelspec": {
   "display_name": "Python 3 (ipykernel)",
   "language": "python",
   "name": "python3"
  },
  "language_info": {
   "codemirror_mode": {
    "name": "ipython",
    "version": 3
   },
   "file_extension": ".py",
   "mimetype": "text/x-python",
   "name": "python",
   "nbconvert_exporter": "python",
   "pygments_lexer": "ipython3",
   "version": "3.10.4"
  }
 },
 "nbformat": 4,
 "nbformat_minor": 5
}
