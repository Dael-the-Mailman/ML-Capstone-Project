{
 "cells": [
  {
   "cell_type": "code",
   "execution_count": null,
   "id": "8eef90f6",
   "metadata": {},
   "outputs": [],
   "source": [
    "import torch\n",
    "import numpy as np\n",
    "import pandas as pd\n",
    "import torch.nn as nn\n",
    "import torch.optim as optim\n",
    "import torch.nn.functional as F\n",
    "\n",
    "from tqdm import tqdm\n",
    "from dotenv import dotenv_values\n",
    "from torch.utils.data import Dataset"
   ]
  },
  {
   "cell_type": "code",
   "execution_count": null,
   "id": "a11a1d0d",
   "metadata": {},
   "outputs": [],
   "source": [
    "config = dotenv_values('../.env')\n",
    "FEATURES = [str(c) for c in range(1326)]"
   ]
  },
  {
   "cell_type": "code",
   "execution_count": null,
   "id": "01f52fcd",
   "metadata": {},
   "outputs": [],
   "source": [
    "nrows = 0\n",
    "CHUNK_SIZE = 3e4\n",
    "for chunk in pd.read_csv(config[\"ENGINEERED_DATA\"] + \"imputed_train.csv\",\n",
    "                         chunksize=CHUNK_SIZE):\n",
    "    nrows = nrows + len(chunk)\n",
    "    print(\"processed {}\".format(nrows))"
   ]
  },
  {
   "cell_type": "code",
   "execution_count": null,
   "id": "cbbadc59",
   "metadata": {},
   "outputs": [],
   "source": []
  }
 ],
 "metadata": {
  "kernelspec": {
   "display_name": "Python 3 (ipykernel)",
   "language": "python",
   "name": "python3"
  },
  "language_info": {
   "codemirror_mode": {
    "name": "ipython",
    "version": 3
   },
   "file_extension": ".py",
   "mimetype": "text/x-python",
   "name": "python",
   "nbconvert_exporter": "python",
   "pygments_lexer": "ipython3",
   "version": "3.10.4"
  }
 },
 "nbformat": 4,
 "nbformat_minor": 5
}
