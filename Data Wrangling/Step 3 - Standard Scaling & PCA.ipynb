{
 "cells": [
  {
   "cell_type": "code",
   "execution_count": 1,
   "id": "59ef92f2",
   "metadata": {},
   "outputs": [],
   "source": [
    "import warnings\n",
    "warnings.simplefilter('ignore')\n",
    "\n",
    "import dask\n",
    "import dask.dataframe as dd\n",
    "import pandas as pd\n",
    "import numpy as np\n",
    "import os,gc\n",
    "\n",
    "from tqdm import tqdm\n",
    "from dotenv import dotenv_values\n",
    "from dask_ml.decomposition import PCA\n",
    "from dask_ml.preprocessing import StandardScaler"
   ]
  },
  {
   "cell_type": "code",
   "execution_count": 2,
   "id": "c730ff27",
   "metadata": {},
   "outputs": [],
   "source": [
    "config = dotenv_values(\"../.env\")"
   ]
  },
  {
   "cell_type": "code",
   "execution_count": 3,
   "id": "f64ccee1",
   "metadata": {
    "scrolled": true
   },
   "outputs": [
    {
     "data": {
      "text/plain": [
       "2332"
      ]
     },
     "execution_count": 3,
     "metadata": {},
     "output_type": "execute_result"
    }
   ],
   "source": [
    "cat_ddf = dd.read_parquet(config[\"WRANGLED_DATA\"] + \"train_cat_feature.parquet\", chunksize=512)\n",
    "num_ddf = dd.read_parquet(config[\"WRANGLED_DATA\"] + \"train_num_feature.parquet\", chunksize=512)\n",
    "diff_ddf = dd.read_parquet(config[\"WRANGLED_DATA\"] + \"train_diff_feature.parquet\", chunksize=512)\n",
    "train_ddf = cat_ddf.merge(num_ddf, on=\"customer_ID\").merge(diff_ddf, on=\"customer_ID\").fillna(0)\n",
    "train_ddf.shape[1]"
   ]
  },
  {
   "cell_type": "code",
   "execution_count": 4,
   "id": "ffe8c571",
   "metadata": {},
   "outputs": [
    {
     "data": {
      "text/plain": [
       "2320"
      ]
     },
     "execution_count": 4,
     "metadata": {},
     "output_type": "execute_result"
    }
   ],
   "source": [
    "cat_ddf = dd.read_parquet(config[\"WRANGLED_DATA\"] + \"test_cat_feature.parquet\", chunksize=1024)\n",
    "num_ddf = dd.read_parquet(config[\"WRANGLED_DATA\"] + \"test_num_feature.parquet\", chunksize=1024)\n",
    "diff_ddf = dd.read_parquet(config[\"WRANGLED_DATA\"] + \"test_diff_feature.parquet\", chunksize=1024)\n",
    "test_ddf = cat_ddf.merge(num_ddf, on=\"customer_ID\").merge(diff_ddf, on=\"customer_ID\").fillna(0)\n",
    "test_ddf.shape[1]"
   ]
  },
  {
   "cell_type": "code",
   "execution_count": 5,
   "id": "05568358",
   "metadata": {
    "scrolled": true
   },
   "outputs": [
    {
     "data": {
      "text/plain": [
       "['oneHot_D_64_1_mean',\n",
       " 'oneHot_D_64_1_std',\n",
       " 'oneHot_D_64_1_sum',\n",
       " 'oneHot_D_64_1_last',\n",
       " 'oneHot_D_66_0.0_mean',\n",
       " 'oneHot_D_66_0.0_std',\n",
       " 'oneHot_D_66_0.0_sum',\n",
       " 'oneHot_D_66_0.0_last',\n",
       " 'oneHot_D_68_0.0_mean',\n",
       " 'oneHot_D_68_0.0_std',\n",
       " 'oneHot_D_68_0.0_sum',\n",
       " 'oneHot_D_68_0.0_last']"
      ]
     },
     "execution_count": 5,
     "metadata": {},
     "output_type": "execute_result"
    }
   ],
   "source": [
    "res = [x for x in list(train_ddf.columns) + list(test_ddf.columns) \n",
    "       if x not in train_ddf.columns or x not in test_ddf.columns]\n",
    "res"
   ]
  },
  {
   "cell_type": "code",
   "execution_count": 6,
   "id": "41c62230",
   "metadata": {},
   "outputs": [
    {
     "data": {
      "text/plain": [
       "2320"
      ]
     },
     "execution_count": 6,
     "metadata": {},
     "output_type": "execute_result"
    }
   ],
   "source": [
    "train_ddf = train_ddf.drop(res, axis=1)\n",
    "len(train_ddf.columns)"
   ]
  },
  {
   "cell_type": "code",
   "execution_count": 7,
   "id": "b8d39531",
   "metadata": {},
   "outputs": [
    {
     "data": {
      "text/plain": [
       "2319"
      ]
     },
     "execution_count": 7,
     "metadata": {},
     "output_type": "execute_result"
    }
   ],
   "source": [
    "all_cols = [x for x in list(train_ddf.columns) if x not in [\"customer_ID\", \"target\"]]\n",
    "len(all_cols)"
   ]
  },
  {
   "cell_type": "code",
   "execution_count": 8,
   "id": "f242cfd3",
   "metadata": {
    "scrolled": true
   },
   "outputs": [
    {
     "data": {
      "text/plain": [
       "0"
      ]
     },
     "execution_count": 8,
     "metadata": {},
     "output_type": "execute_result"
    }
   ],
   "source": [
    "del cat_ddf, num_ddf, diff_ddf\n",
    "gc.collect()"
   ]
  },
  {
   "cell_type": "code",
   "execution_count": 9,
   "id": "05b0ef48",
   "metadata": {},
   "outputs": [
    {
     "data": {
      "text/html": [
       "<style>#sk-container-id-1 {color: black;background-color: white;}#sk-container-id-1 pre{padding: 0;}#sk-container-id-1 div.sk-toggleable {background-color: white;}#sk-container-id-1 label.sk-toggleable__label {cursor: pointer;display: block;width: 100%;margin-bottom: 0;padding: 0.3em;box-sizing: border-box;text-align: center;}#sk-container-id-1 label.sk-toggleable__label-arrow:before {content: \"▸\";float: left;margin-right: 0.25em;color: #696969;}#sk-container-id-1 label.sk-toggleable__label-arrow:hover:before {color: black;}#sk-container-id-1 div.sk-estimator:hover label.sk-toggleable__label-arrow:before {color: black;}#sk-container-id-1 div.sk-toggleable__content {max-height: 0;max-width: 0;overflow: hidden;text-align: left;background-color: #f0f8ff;}#sk-container-id-1 div.sk-toggleable__content pre {margin: 0.2em;color: black;border-radius: 0.25em;background-color: #f0f8ff;}#sk-container-id-1 input.sk-toggleable__control:checked~div.sk-toggleable__content {max-height: 200px;max-width: 100%;overflow: auto;}#sk-container-id-1 input.sk-toggleable__control:checked~label.sk-toggleable__label-arrow:before {content: \"▾\";}#sk-container-id-1 div.sk-estimator input.sk-toggleable__control:checked~label.sk-toggleable__label {background-color: #d4ebff;}#sk-container-id-1 div.sk-label input.sk-toggleable__control:checked~label.sk-toggleable__label {background-color: #d4ebff;}#sk-container-id-1 input.sk-hidden--visually {border: 0;clip: rect(1px 1px 1px 1px);clip: rect(1px, 1px, 1px, 1px);height: 1px;margin: -1px;overflow: hidden;padding: 0;position: absolute;width: 1px;}#sk-container-id-1 div.sk-estimator {font-family: monospace;background-color: #f0f8ff;border: 1px dotted black;border-radius: 0.25em;box-sizing: border-box;margin-bottom: 0.5em;}#sk-container-id-1 div.sk-estimator:hover {background-color: #d4ebff;}#sk-container-id-1 div.sk-parallel-item::after {content: \"\";width: 100%;border-bottom: 1px solid gray;flex-grow: 1;}#sk-container-id-1 div.sk-label:hover label.sk-toggleable__label {background-color: #d4ebff;}#sk-container-id-1 div.sk-serial::before {content: \"\";position: absolute;border-left: 1px solid gray;box-sizing: border-box;top: 0;bottom: 0;left: 50%;z-index: 0;}#sk-container-id-1 div.sk-serial {display: flex;flex-direction: column;align-items: center;background-color: white;padding-right: 0.2em;padding-left: 0.2em;position: relative;}#sk-container-id-1 div.sk-item {position: relative;z-index: 1;}#sk-container-id-1 div.sk-parallel {display: flex;align-items: stretch;justify-content: center;background-color: white;position: relative;}#sk-container-id-1 div.sk-item::before, #sk-container-id-1 div.sk-parallel-item::before {content: \"\";position: absolute;border-left: 1px solid gray;box-sizing: border-box;top: 0;bottom: 0;left: 50%;z-index: -1;}#sk-container-id-1 div.sk-parallel-item {display: flex;flex-direction: column;z-index: 1;position: relative;background-color: white;}#sk-container-id-1 div.sk-parallel-item:first-child::after {align-self: flex-end;width: 50%;}#sk-container-id-1 div.sk-parallel-item:last-child::after {align-self: flex-start;width: 50%;}#sk-container-id-1 div.sk-parallel-item:only-child::after {width: 0;}#sk-container-id-1 div.sk-dashed-wrapped {border: 1px dashed gray;margin: 0 0.4em 0.5em 0.4em;box-sizing: border-box;padding-bottom: 0.4em;background-color: white;}#sk-container-id-1 div.sk-label label {font-family: monospace;font-weight: bold;display: inline-block;line-height: 1.2em;}#sk-container-id-1 div.sk-label-container {text-align: center;}#sk-container-id-1 div.sk-container {/* jupyter's `normalize.less` sets `[hidden] { display: none; }` but bootstrap.min.css set `[hidden] { display: none !important; }` so we also need the `!important` here to be able to override the default hidden behavior on the sphinx rendered scikit-learn.org. See: https://github.com/scikit-learn/scikit-learn/issues/21755 */display: inline-block !important;position: relative;}#sk-container-id-1 div.sk-text-repr-fallback {display: none;}</style><div id=\"sk-container-id-1\" class=\"sk-top-container\"><div class=\"sk-text-repr-fallback\"><pre>StandardScaler()</pre><b>In a Jupyter environment, please rerun this cell to show the HTML representation or trust the notebook. <br />On GitHub, the HTML representation is unable to render, please try loading this page with nbviewer.org.</b></div><div class=\"sk-container\" hidden><div class=\"sk-item\"><div class=\"sk-estimator sk-toggleable\"><input class=\"sk-toggleable__control sk-hidden--visually\" id=\"sk-estimator-id-1\" type=\"checkbox\" checked><label for=\"sk-estimator-id-1\" class=\"sk-toggleable__label sk-toggleable__label-arrow\">StandardScaler</label><div class=\"sk-toggleable__content\"><pre>StandardScaler()</pre></div></div></div></div></div>"
      ],
      "text/plain": [
       "StandardScaler()"
      ]
     },
     "execution_count": 9,
     "metadata": {},
     "output_type": "execute_result"
    }
   ],
   "source": [
    "scaler = StandardScaler()\n",
    "scaler"
   ]
  },
  {
   "cell_type": "code",
   "execution_count": 10,
   "id": "69186705",
   "metadata": {},
   "outputs": [
    {
     "data": {
      "text/plain": [
       "['D:\\\\datasets\\\\amex-default-prediction\\\\wrangled_data\\\\scaled_train\\\\train-0.csv.part']"
      ]
     },
     "execution_count": 10,
     "metadata": {},
     "output_type": "execute_result"
    }
   ],
   "source": [
    "train_ddf = scaler.fit_transform(train_ddf[all_cols])\n",
    "train_ddf.to_csv(config[\"WRANGLED_DATA\"] + \"scaled_train\", name_function=lambda x: f\"train-{x}.csv\", index=False)"
   ]
  },
  {
   "cell_type": "code",
   "execution_count": 11,
   "id": "12f5f459",
   "metadata": {},
   "outputs": [
    {
     "data": {
      "text/html": [
       "<style>#sk-container-id-2 {color: black;background-color: white;}#sk-container-id-2 pre{padding: 0;}#sk-container-id-2 div.sk-toggleable {background-color: white;}#sk-container-id-2 label.sk-toggleable__label {cursor: pointer;display: block;width: 100%;margin-bottom: 0;padding: 0.3em;box-sizing: border-box;text-align: center;}#sk-container-id-2 label.sk-toggleable__label-arrow:before {content: \"▸\";float: left;margin-right: 0.25em;color: #696969;}#sk-container-id-2 label.sk-toggleable__label-arrow:hover:before {color: black;}#sk-container-id-2 div.sk-estimator:hover label.sk-toggleable__label-arrow:before {color: black;}#sk-container-id-2 div.sk-toggleable__content {max-height: 0;max-width: 0;overflow: hidden;text-align: left;background-color: #f0f8ff;}#sk-container-id-2 div.sk-toggleable__content pre {margin: 0.2em;color: black;border-radius: 0.25em;background-color: #f0f8ff;}#sk-container-id-2 input.sk-toggleable__control:checked~div.sk-toggleable__content {max-height: 200px;max-width: 100%;overflow: auto;}#sk-container-id-2 input.sk-toggleable__control:checked~label.sk-toggleable__label-arrow:before {content: \"▾\";}#sk-container-id-2 div.sk-estimator input.sk-toggleable__control:checked~label.sk-toggleable__label {background-color: #d4ebff;}#sk-container-id-2 div.sk-label input.sk-toggleable__control:checked~label.sk-toggleable__label {background-color: #d4ebff;}#sk-container-id-2 input.sk-hidden--visually {border: 0;clip: rect(1px 1px 1px 1px);clip: rect(1px, 1px, 1px, 1px);height: 1px;margin: -1px;overflow: hidden;padding: 0;position: absolute;width: 1px;}#sk-container-id-2 div.sk-estimator {font-family: monospace;background-color: #f0f8ff;border: 1px dotted black;border-radius: 0.25em;box-sizing: border-box;margin-bottom: 0.5em;}#sk-container-id-2 div.sk-estimator:hover {background-color: #d4ebff;}#sk-container-id-2 div.sk-parallel-item::after {content: \"\";width: 100%;border-bottom: 1px solid gray;flex-grow: 1;}#sk-container-id-2 div.sk-label:hover label.sk-toggleable__label {background-color: #d4ebff;}#sk-container-id-2 div.sk-serial::before {content: \"\";position: absolute;border-left: 1px solid gray;box-sizing: border-box;top: 0;bottom: 0;left: 50%;z-index: 0;}#sk-container-id-2 div.sk-serial {display: flex;flex-direction: column;align-items: center;background-color: white;padding-right: 0.2em;padding-left: 0.2em;position: relative;}#sk-container-id-2 div.sk-item {position: relative;z-index: 1;}#sk-container-id-2 div.sk-parallel {display: flex;align-items: stretch;justify-content: center;background-color: white;position: relative;}#sk-container-id-2 div.sk-item::before, #sk-container-id-2 div.sk-parallel-item::before {content: \"\";position: absolute;border-left: 1px solid gray;box-sizing: border-box;top: 0;bottom: 0;left: 50%;z-index: -1;}#sk-container-id-2 div.sk-parallel-item {display: flex;flex-direction: column;z-index: 1;position: relative;background-color: white;}#sk-container-id-2 div.sk-parallel-item:first-child::after {align-self: flex-end;width: 50%;}#sk-container-id-2 div.sk-parallel-item:last-child::after {align-self: flex-start;width: 50%;}#sk-container-id-2 div.sk-parallel-item:only-child::after {width: 0;}#sk-container-id-2 div.sk-dashed-wrapped {border: 1px dashed gray;margin: 0 0.4em 0.5em 0.4em;box-sizing: border-box;padding-bottom: 0.4em;background-color: white;}#sk-container-id-2 div.sk-label label {font-family: monospace;font-weight: bold;display: inline-block;line-height: 1.2em;}#sk-container-id-2 div.sk-label-container {text-align: center;}#sk-container-id-2 div.sk-container {/* jupyter's `normalize.less` sets `[hidden] { display: none; }` but bootstrap.min.css set `[hidden] { display: none !important; }` so we also need the `!important` here to be able to override the default hidden behavior on the sphinx rendered scikit-learn.org. See: https://github.com/scikit-learn/scikit-learn/issues/21755 */display: inline-block !important;position: relative;}#sk-container-id-2 div.sk-text-repr-fallback {display: none;}</style><div id=\"sk-container-id-2\" class=\"sk-top-container\"><div class=\"sk-text-repr-fallback\"><pre>PCA(n_components=128, svd_solver=&#x27;randomized&#x27;, whiten=True)</pre><b>In a Jupyter environment, please rerun this cell to show the HTML representation or trust the notebook. <br />On GitHub, the HTML representation is unable to render, please try loading this page with nbviewer.org.</b></div><div class=\"sk-container\" hidden><div class=\"sk-item\"><div class=\"sk-estimator sk-toggleable\"><input class=\"sk-toggleable__control sk-hidden--visually\" id=\"sk-estimator-id-2\" type=\"checkbox\" checked><label for=\"sk-estimator-id-2\" class=\"sk-toggleable__label sk-toggleable__label-arrow\">PCA</label><div class=\"sk-toggleable__content\"><pre>PCA(n_components=128, svd_solver=&#x27;randomized&#x27;, whiten=True)</pre></div></div></div></div></div>"
      ],
      "text/plain": [
       "PCA(n_components=128, svd_solver='randomized', whiten=True)"
      ]
     },
     "execution_count": 11,
     "metadata": {},
     "output_type": "execute_result"
    }
   ],
   "source": [
    "pca = PCA(n_components=128, svd_solver='randomized', whiten=True)\n",
    "pca.fit(train_ddf.to_dask_array(lengths=True))"
   ]
  },
  {
   "cell_type": "code",
   "execution_count": 12,
   "id": "1db82327",
   "metadata": {},
   "outputs": [
    {
     "data": {
      "text/plain": [
       "['D:\\\\datasets\\\\amex-default-prediction\\\\wrangled_data\\\\train_pca\\\\train-pca-0.csv.part']"
      ]
     },
     "execution_count": 12,
     "metadata": {},
     "output_type": "execute_result"
    }
   ],
   "source": [
    "train_ddf = pca.transform(train_ddf.to_dask_array(lengths=True)).to_dask_dataframe()\n",
    "train_ddf.to_csv(config[\"WRANGLED_DATA\"] + \"train_pca\", name_function=lambda x: f\"train-pca-{x}.csv\", index=False)"
   ]
  },
  {
   "cell_type": "code",
   "execution_count": 13,
   "id": "dc25ee46",
   "metadata": {},
   "outputs": [
    {
     "name": "stdout",
     "output_type": "stream",
     "text": [
      "Unexpected exception formatting exception. Falling back to standard exception\n"
     ]
    },
    {
     "name": "stderr",
     "output_type": "stream",
     "text": [
      "Traceback (most recent call last):\n",
      "  File \"C:\\Users\\Kaleb\\anaconda3\\envs\\kaggle\\lib\\site-packages\\IPython\\core\\interactiveshell.py\", line 3398, in run_code\n",
      "    exec(code_obj, self.user_global_ns, self.user_ns)\n",
      "  File \"C:\\Users\\Kaleb\\AppData\\Local\\Temp\\ipykernel_23620\\3682337358.py\", line 2, in <cell line: 2>\n",
      "    test_ddf.to_csv(config[\"WRANGLED_DATA\"] + \"scaled_test\", name_function=lambda x: f\"test-{x}.csv\", index=False)\n",
      "  File \"C:\\Users\\Kaleb\\AppData\\Roaming\\Python\\Python310\\site-packages\\dask\\dataframe\\core.py\", line 1691, in to_csv\n",
      "    return to_csv(self, filename, **kwargs)\n",
      "  File \"C:\\Users\\Kaleb\\AppData\\Roaming\\Python\\Python310\\site-packages\\dask\\dataframe\\io\\csv.py\", line 972, in to_csv\n",
      "    return list(dask.compute(*values, **compute_kwargs))\n",
      "  File \"C:\\Users\\Kaleb\\AppData\\Roaming\\Python\\Python310\\site-packages\\dask\\base.py\", line 603, in compute\n",
      "    results = schedule(dsk, keys, **kwargs)\n",
      "  File \"C:\\Users\\Kaleb\\AppData\\Roaming\\Python\\Python310\\site-packages\\dask\\threaded.py\", line 89, in get\n",
      "    results = get_async(\n",
      "  File \"C:\\Users\\Kaleb\\AppData\\Roaming\\Python\\Python310\\site-packages\\dask\\local.py\", line 511, in get_async\n",
      "    raise_exception(exc, tb)\n",
      "  File \"C:\\Users\\Kaleb\\AppData\\Roaming\\Python\\Python310\\site-packages\\dask\\local.py\", line 319, in reraise\n",
      "    raise exc\n",
      "  File \"C:\\Users\\Kaleb\\AppData\\Roaming\\Python\\Python310\\site-packages\\dask\\local.py\", line 224, in execute_task\n",
      "    result = _execute_task(task, data)\n",
      "  File \"C:\\Users\\Kaleb\\AppData\\Roaming\\Python\\Python310\\site-packages\\dask\\core.py\", line 119, in _execute_task\n",
      "    return func(*(_execute_task(a, cache) for a in args))\n",
      "  File \"C:\\Users\\Kaleb\\AppData\\Roaming\\Python\\Python310\\site-packages\\dask\\optimization.py\", line 990, in __call__\n",
      "    return core.get(self.dsk, self.outkey, dict(zip(self.inkeys, args)))\n",
      "  File \"C:\\Users\\Kaleb\\AppData\\Roaming\\Python\\Python310\\site-packages\\dask\\core.py\", line 149, in get\n",
      "    result = _execute_task(task, cache)\n",
      "  File \"C:\\Users\\Kaleb\\AppData\\Roaming\\Python\\Python310\\site-packages\\dask\\core.py\", line 119, in _execute_task\n",
      "    return func(*(_execute_task(a, cache) for a in args))\n",
      "  File \"C:\\Users\\Kaleb\\AppData\\Roaming\\Python\\Python310\\site-packages\\dask\\core.py\", line 119, in <genexpr>\n",
      "    return func(*(_execute_task(a, cache) for a in args))\n",
      "  File \"C:\\Users\\Kaleb\\AppData\\Roaming\\Python\\Python310\\site-packages\\dask\\core.py\", line 119, in _execute_task\n",
      "    return func(*(_execute_task(a, cache) for a in args))\n",
      "  File \"C:\\Users\\Kaleb\\anaconda3\\envs\\kaggle\\lib\\site-packages\\pandas\\core\\ops\\common.py\", line 70, in new_method\n",
      "    return method(self, other)\n",
      "  File \"C:\\Users\\Kaleb\\anaconda3\\envs\\kaggle\\lib\\site-packages\\pandas\\core\\arraylike.py\", line 108, in __sub__\n",
      "    return self._arith_method(other, operator.sub)\n",
      "  File \"C:\\Users\\Kaleb\\anaconda3\\envs\\kaggle\\lib\\site-packages\\pandas\\core\\frame.py\", line 6952, in _arith_method\n",
      "    new_data = self._dispatch_frame_op(other, op, axis=axis)\n",
      "  File \"C:\\Users\\Kaleb\\anaconda3\\envs\\kaggle\\lib\\site-packages\\pandas\\core\\frame.py\", line 6991, in _dispatch_frame_op\n",
      "    bm = self._mgr.operate_blockwise(\n",
      "  File \"C:\\Users\\Kaleb\\anaconda3\\envs\\kaggle\\lib\\site-packages\\pandas\\core\\internals\\managers.py\", line 1409, in operate_blockwise\n",
      "    return operate_blockwise(self, other, array_op)\n",
      "  File \"C:\\Users\\Kaleb\\anaconda3\\envs\\kaggle\\lib\\site-packages\\pandas\\core\\internals\\ops.py\", line 63, in operate_blockwise\n",
      "    res_values = array_op(lvals, rvals)\n",
      "  File \"C:\\Users\\Kaleb\\anaconda3\\envs\\kaggle\\lib\\site-packages\\pandas\\core\\ops\\array_ops.py\", line 222, in arithmetic_op\n",
      "    res_values = _na_arithmetic_op(left, right, op)\n",
      "  File \"C:\\Users\\Kaleb\\anaconda3\\envs\\kaggle\\lib\\site-packages\\pandas\\core\\ops\\array_ops.py\", line 163, in _na_arithmetic_op\n",
      "    result = func(left, right)\n",
      "  File \"C:\\Users\\Kaleb\\anaconda3\\envs\\kaggle\\lib\\site-packages\\pandas\\core\\computation\\expressions.py\", line 239, in evaluate\n",
      "    return _evaluate(op, op_str, a, b)  # type: ignore[misc]\n",
      "  File \"C:\\Users\\Kaleb\\anaconda3\\envs\\kaggle\\lib\\site-packages\\pandas\\core\\computation\\expressions.py\", line 69, in _evaluate_standard\n",
      "    return op(a, b)\n",
      "numpy.core._exceptions._ArrayMemoryError: Unable to allocate 7.05 MiB for an array with shape (1, 924621) and data type float64\n",
      "\n",
      "During handling of the above exception, another exception occurred:\n",
      "\n",
      "Traceback (most recent call last):\n",
      "  File \"C:\\Users\\Kaleb\\anaconda3\\envs\\kaggle\\lib\\site-packages\\executing\\executing.py\", line 317, in executing\n",
      "    args = executing_cache[key]\n",
      "KeyError: (<code object to_csv at 0x000001A99D4875D0, file \"C:\\Users\\Kaleb\\AppData\\Roaming\\Python\\Python310\\site-packages\\dask\\dataframe\\core.py\", line 1687>, 1827999872464, 24)\n",
      "\n",
      "During handling of the above exception, another exception occurred:\n",
      "\n",
      "Traceback (most recent call last):\n",
      "  File \"C:\\Users\\Kaleb\\anaconda3\\envs\\kaggle\\lib\\site-packages\\IPython\\core\\interactiveshell.py\", line 1993, in showtraceback\n",
      "    stb = self.InteractiveTB.structured_traceback(\n",
      "  File \"C:\\Users\\Kaleb\\anaconda3\\envs\\kaggle\\lib\\site-packages\\IPython\\core\\ultratb.py\", line 1118, in structured_traceback\n",
      "    return FormattedTB.structured_traceback(\n",
      "  File \"C:\\Users\\Kaleb\\anaconda3\\envs\\kaggle\\lib\\site-packages\\IPython\\core\\ultratb.py\", line 1012, in structured_traceback\n",
      "    return VerboseTB.structured_traceback(\n",
      "  File \"C:\\Users\\Kaleb\\anaconda3\\envs\\kaggle\\lib\\site-packages\\IPython\\core\\ultratb.py\", line 865, in structured_traceback\n",
      "    formatted_exception = self.format_exception_as_a_whole(etype, evalue, etb, number_of_lines_of_context,\n",
      "  File \"C:\\Users\\Kaleb\\anaconda3\\envs\\kaggle\\lib\\site-packages\\IPython\\core\\ultratb.py\", line 799, in format_exception_as_a_whole\n",
      "    self.get_records(etb, number_of_lines_of_context, tb_offset) if etb else []\n",
      "  File \"C:\\Users\\Kaleb\\anaconda3\\envs\\kaggle\\lib\\site-packages\\IPython\\core\\ultratb.py\", line 854, in get_records\n",
      "    return list(stack_data.FrameInfo.stack_data(etb, options=options))[tb_offset:]\n",
      "  File \"C:\\Users\\Kaleb\\anaconda3\\envs\\kaggle\\lib\\site-packages\\stack_data\\core.py\", line 565, in stack_data\n",
      "    yield from collapse_repeated(\n",
      "  File \"C:\\Users\\Kaleb\\anaconda3\\envs\\kaggle\\lib\\site-packages\\stack_data\\utils.py\", line 84, in collapse_repeated\n",
      "    yield from map(mapper, original_group)\n",
      "  File \"C:\\Users\\Kaleb\\anaconda3\\envs\\kaggle\\lib\\site-packages\\stack_data\\core.py\", line 555, in mapper\n",
      "    return cls(f, options)\n",
      "  File \"C:\\Users\\Kaleb\\anaconda3\\envs\\kaggle\\lib\\site-packages\\stack_data\\core.py\", line 520, in __init__\n",
      "    self.executing = Source.executing(frame_or_tb)\n",
      "  File \"C:\\Users\\Kaleb\\anaconda3\\envs\\kaggle\\lib\\site-packages\\executing\\executing.py\", line 369, in executing\n",
      "    args = find(source=cls.for_frame(frame), retry_cache=True)\n",
      "  File \"C:\\Users\\Kaleb\\anaconda3\\envs\\kaggle\\lib\\site-packages\\executing\\executing.py\", line 252, in for_frame\n",
      "    return cls.for_filename(frame.f_code.co_filename, frame.f_globals or {}, use_cache)\n",
      "  File \"C:\\Users\\Kaleb\\anaconda3\\envs\\kaggle\\lib\\site-packages\\executing\\executing.py\", line 270, in for_filename\n",
      "    result = source_cache[filename] = cls._for_filename_and_lines(filename, lines)\n",
      "  File \"C:\\Users\\Kaleb\\anaconda3\\envs\\kaggle\\lib\\site-packages\\executing\\executing.py\", line 281, in _for_filename_and_lines\n",
      "    result = source_cache[(filename, lines)] = cls(filename, lines)\n",
      "  File \"C:\\Users\\Kaleb\\anaconda3\\envs\\kaggle\\lib\\site-packages\\stack_data\\core.py\", line 79, in __init__\n",
      "    super(Source, self).__init__(*args, **kwargs)\n",
      "  File \"C:\\Users\\Kaleb\\anaconda3\\envs\\kaggle\\lib\\site-packages\\executing\\executing.py\", line 228, in __init__\n",
      "    self.tree = ast.parse(ast_text, filename=filename)\n",
      "  File \"C:\\Users\\Kaleb\\anaconda3\\envs\\kaggle\\lib\\ast.py\", line 50, in parse\n",
      "    return compile(source, filename, mode, flags,\n",
      "MemoryError\n"
     ]
    }
   ],
   "source": [
    "test_ddf = scaler.transform(test_ddf[all_cols])\n",
    "test_ddf.to_csv(config[\"WRANGLED_DATA\"] + \"scaled_test\", name_function=lambda x: f\"test-{x}.csv\", index=False)"
   ]
  },
  {
   "cell_type": "code",
   "execution_count": null,
   "id": "192759d3",
   "metadata": {},
   "outputs": [],
   "source": [
    "test_ddf = pca.transform(test_ddf.to_dask_array(lengths=True)).to_dask_dataframe()\n",
    "test_ddf.to_csv(config[\"WRANGLED_DATA\"] + \"test_pca\", name_function=lambda x: f\"test-pca-{x}.csv\", index=False)"
   ]
  }
 ],
 "metadata": {
  "kernelspec": {
   "display_name": "Python 3 (ipykernel)",
   "language": "python",
   "name": "python3"
  },
  "language_info": {
   "codemirror_mode": {
    "name": "ipython",
    "version": 3
   },
   "file_extension": ".py",
   "mimetype": "text/x-python",
   "name": "python",
   "nbconvert_exporter": "python",
   "pygments_lexer": "ipython3",
   "version": "3.10.4"
  }
 },
 "nbformat": 4,
 "nbformat_minor": 5
}
